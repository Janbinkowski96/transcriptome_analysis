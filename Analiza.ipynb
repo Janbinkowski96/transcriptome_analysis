{
  "nbformat": 4,
  "nbformat_minor": 0,
  "metadata": {
    "colab": {
      "name": "Analiza.ipynb",
      "version": "0.3.2",
      "provenance": [],
      "toc_visible": true
    },
    "kernelspec": {
      "display_name": "Python 3",
      "language": "python",
      "name": "python3"
    }
  },
  "cells": [
    {
      "metadata": {
        "id": "7jnZ0d8feHFt",
        "colab_type": "code",
        "colab": {
          "base_uri": "https://localhost:8080/",
          "height": 139
        },
        "outputId": "734dbbbd-7eca-4c78-f8d0-5f74c89076dc"
      },
      "cell_type": "code",
      "source": [
        "!pip3 install biopython"
      ],
      "execution_count": 47,
      "outputs": [
        {
          "output_type": "stream",
          "text": [
            "Collecting biopython\n",
            "\u001b[?25l  Downloading https://files.pythonhosted.org/packages/28/15/8ac646ff24cfa2588b4d5e5ea51e8d13f3d35806bd9498fbf40ef79026fd/biopython-1.73-cp36-cp36m-manylinux1_x86_64.whl (2.2MB)\n",
            "\u001b[K    100% |████████████████████████████████| 2.2MB 11.2MB/s \n",
            "\u001b[?25hRequirement already satisfied: numpy in /usr/local/lib/python3.6/dist-packages (from biopython) (1.14.6)\n",
            "Installing collected packages: biopython\n",
            "Successfully installed biopython-1.73\n"
          ],
          "name": "stdout"
        }
      ]
    },
    {
      "metadata": {
        "id": "SWFEtKxkiZhb",
        "colab_type": "code",
        "colab": {}
      },
      "cell_type": "code",
      "source": [
        "!pip3 install seaborn --upgrade"
      ],
      "execution_count": 0,
      "outputs": []
    },
    {
      "metadata": {
        "id": "WfEKgQBhjAJV",
        "colab_type": "code",
        "colab": {}
      },
      "cell_type": "code",
      "source": [
        "!pip3 install pandas sklearn --upgrade"
      ],
      "execution_count": 0,
      "outputs": []
    },
    {
      "metadata": {
        "id": "KrH1TUiReLhe",
        "colab_type": "code",
        "colab": {}
      },
      "cell_type": "code",
      "source": [
        "!pip3 list"
      ],
      "execution_count": 0,
      "outputs": []
    },
    {
      "metadata": {
        "id": "MnDN3DuCb23T",
        "colab_type": "text"
      },
      "cell_type": "markdown",
      "source": [
        "## Testing raw code to inital transciptome analysis"
      ]
    },
    {
      "metadata": {
        "id": "8uotvFDob23W",
        "colab_type": "text"
      },
      "cell_type": "markdown",
      "source": [
        "### This is pre-code !"
      ]
    },
    {
      "metadata": {
        "id": "ZftNae2vb23e",
        "colab_type": "text"
      },
      "cell_type": "markdown",
      "source": [
        "### Data import and pre-process"
      ]
    },
    {
      "metadata": {
        "id": "zO36CN-Ub23Y",
        "colab_type": "code",
        "colab": {}
      },
      "cell_type": "code",
      "source": [
        "import pandas as pd\n",
        "import numpy as np\n",
        "import Bio\n",
        "import seaborn as sns\n",
        "import matplotlib.pyplot as plt"
      ],
      "execution_count": 0,
      "outputs": []
    },
    {
      "metadata": {
        "id": "JFGy490tb23f",
        "colab_type": "code",
        "colab": {}
      },
      "cell_type": "code",
      "source": [
        "trinity_DS2_raw = pd.read_csv(\"MOJE_Trinity_DS2.csv\", delimiter=\";\", header=1) \n",
        "trinity_M12_raw = pd.read_csv(\"MOJE_Trinity_M12.csv\", delimiter=\";\", header=1) \n",
        "trinity_RXL_raw = pd.read_csv(\"MOJE_Trinity_RXL.csv\", delimiter=\";\", header=1) \n",
        "# DS2/m12/rxl strains - full contig expression data set: 2w / 3bzw"
      ],
      "execution_count": 0,
      "outputs": []
    },
    {
      "metadata": {
        "id": "JGFG4CFMb23l",
        "colab_type": "code",
        "colab": {}
      },
      "cell_type": "code",
      "source": [
        "ds2_raw = pd.read_csv(\"data2_DS2.csv\", delimiter=\";\") \n",
        "m12_raw = pd.read_csv(\"data2_M12.csv\", delimiter=\";\") \n",
        "rxl_raw = pd.read_csv(\"data2_RXL10.csv\", delimiter=\";\") \n",
        "\n",
        "# DS2/m12/rxl stat data, proportin w/bzw and p-value"
      ],
      "execution_count": 0,
      "outputs": []
    },
    {
      "metadata": {
        "id": "sg0dIFhVb23r",
        "colab_type": "code",
        "colab": {}
      },
      "cell_type": "code",
      "source": [
        "l = [] #df display options\n",
        "l.append(len(trinity_DS2_raw.columns))\n",
        "l.append(len(ds2_raw.columns))\n",
        "col_n = max(l)\n",
        "pd.set_option('display.max_columns', col_n)"
      ],
      "execution_count": 0,
      "outputs": []
    },
    {
      "metadata": {
        "id": "K6mLqJhsb23w",
        "colab_type": "code",
        "colab": {}
      },
      "cell_type": "code",
      "source": [
        "#pre-process of csv\n",
        "ds2_data = ds2_raw[[\"DS2bw/DS2.fc\", \"DS2bw/DS2.raw.pval\"]].apply(lambda x: x.str.replace(\",\", \".\"))\n",
        "trinity_DS2_r = trinity_DS2_raw[[\"DS2_1_FPKM\", \"DS2_2_FPKM\", \"DS2bw1_FPKM\", \"DS2bw2_FPKM\", \"DS2bw3_FPKM\"]].apply(lambda x: x.str.replace(\",\", \".\"))\n",
        "\n",
        "ds2_data = ds2_data[[\"DS2bw/DS2.fc\", \"DS2bw/DS2.raw.pval\"]].apply(lambda x: pd.to_numeric(x, downcast=\"float\"))\n",
        "trinity_DS2_r = trinity_DS2_r[[\"DS2_1_FPKM\", \"DS2_2_FPKM\", \"DS2bw1_FPKM\", \"DS2bw2_FPKM\", \"DS2bw3_FPKM\"]].apply(lambda x: pd.to_numeric(x,  downcast=\"float\"))\n",
        "\n",
        "ds2_data = pd.concat([ds2_raw[\"Contig\"], ds2_data], axis=1)\n",
        "trinity_DS2_r = pd.concat([trinity_DS2_raw[\"Name\"], trinity_DS2_r], axis=1)"
      ],
      "execution_count": 0,
      "outputs": []
    },
    {
      "metadata": {
        "id": "ig2Grzfrb232",
        "colab_type": "code",
        "colab": {
          "base_uri": "https://localhost:8080/",
          "height": 204
        },
        "outputId": "cf6351b3-f8c0-4ac8-de52-d8557352edeb"
      },
      "cell_type": "code",
      "source": [
        "ds2_data.head()"
      ],
      "execution_count": 9,
      "outputs": [
        {
          "output_type": "execute_result",
          "data": {
            "text/html": [
              "<div>\n",
              "<style scoped>\n",
              "    .dataframe tbody tr th:only-of-type {\n",
              "        vertical-align: middle;\n",
              "    }\n",
              "\n",
              "    .dataframe tbody tr th {\n",
              "        vertical-align: top;\n",
              "    }\n",
              "\n",
              "    .dataframe thead th {\n",
              "        text-align: right;\n",
              "    }\n",
              "</style>\n",
              "<table border=\"1\" class=\"dataframe\">\n",
              "  <thead>\n",
              "    <tr style=\"text-align: right;\">\n",
              "      <th></th>\n",
              "      <th>Contig</th>\n",
              "      <th>DS2bw/DS2.fc</th>\n",
              "      <th>DS2bw/DS2.raw.pval</th>\n",
              "    </tr>\n",
              "  </thead>\n",
              "  <tbody>\n",
              "    <tr>\n",
              "      <th>0</th>\n",
              "      <td>c58_g1_i1</td>\n",
              "      <td>-1.253778</td>\n",
              "      <td>0.231288</td>\n",
              "    </tr>\n",
              "    <tr>\n",
              "      <th>1</th>\n",
              "      <td>c100_g1_i1</td>\n",
              "      <td>1.077082</td>\n",
              "      <td>0.264728</td>\n",
              "    </tr>\n",
              "    <tr>\n",
              "      <th>2</th>\n",
              "      <td>c104_g1_i1</td>\n",
              "      <td>1.018095</td>\n",
              "      <td>0.760636</td>\n",
              "    </tr>\n",
              "    <tr>\n",
              "      <th>3</th>\n",
              "      <td>c116_g1_i1</td>\n",
              "      <td>-1.138862</td>\n",
              "      <td>0.413884</td>\n",
              "    </tr>\n",
              "    <tr>\n",
              "      <th>4</th>\n",
              "      <td>c123_g1_i1</td>\n",
              "      <td>1.111505</td>\n",
              "      <td>0.325058</td>\n",
              "    </tr>\n",
              "  </tbody>\n",
              "</table>\n",
              "</div>"
            ],
            "text/plain": [
              "       Contig  DS2bw/DS2.fc  DS2bw/DS2.raw.pval\n",
              "0   c58_g1_i1     -1.253778            0.231288\n",
              "1  c100_g1_i1      1.077082            0.264728\n",
              "2  c104_g1_i1      1.018095            0.760636\n",
              "3  c116_g1_i1     -1.138862            0.413884\n",
              "4  c123_g1_i1      1.111505            0.325058"
            ]
          },
          "metadata": {
            "tags": []
          },
          "execution_count": 9
        }
      ]
    },
    {
      "metadata": {
        "id": "gUeEqideb23-",
        "colab_type": "code",
        "colab": {
          "base_uri": "https://localhost:8080/",
          "height": 204
        },
        "outputId": "b9e7a9a6-bbeb-4494-fc43-628dce7acef7"
      },
      "cell_type": "code",
      "source": [
        "trinity_DS2_r.head()"
      ],
      "execution_count": 10,
      "outputs": [
        {
          "output_type": "execute_result",
          "data": {
            "text/html": [
              "<div>\n",
              "<style scoped>\n",
              "    .dataframe tbody tr th:only-of-type {\n",
              "        vertical-align: middle;\n",
              "    }\n",
              "\n",
              "    .dataframe tbody tr th {\n",
              "        vertical-align: top;\n",
              "    }\n",
              "\n",
              "    .dataframe thead th {\n",
              "        text-align: right;\n",
              "    }\n",
              "</style>\n",
              "<table border=\"1\" class=\"dataframe\">\n",
              "  <thead>\n",
              "    <tr style=\"text-align: right;\">\n",
              "      <th></th>\n",
              "      <th>Name</th>\n",
              "      <th>DS2_1_FPKM</th>\n",
              "      <th>DS2_2_FPKM</th>\n",
              "      <th>DS2bw1_FPKM</th>\n",
              "      <th>DS2bw2_FPKM</th>\n",
              "      <th>DS2bw3_FPKM</th>\n",
              "    </tr>\n",
              "  </thead>\n",
              "  <tbody>\n",
              "    <tr>\n",
              "      <th>0</th>\n",
              "      <td>c95728_g1_i1</td>\n",
              "      <td>0.0</td>\n",
              "      <td>0.00</td>\n",
              "      <td>0.0</td>\n",
              "      <td>0.0</td>\n",
              "      <td>0.00</td>\n",
              "    </tr>\n",
              "    <tr>\n",
              "      <th>1</th>\n",
              "      <td>c280_g1_i1</td>\n",
              "      <td>0.0</td>\n",
              "      <td>0.44</td>\n",
              "      <td>0.0</td>\n",
              "      <td>0.0</td>\n",
              "      <td>0.00</td>\n",
              "    </tr>\n",
              "    <tr>\n",
              "      <th>2</th>\n",
              "      <td>c95935_g1_i1</td>\n",
              "      <td>0.0</td>\n",
              "      <td>0.00</td>\n",
              "      <td>0.0</td>\n",
              "      <td>0.0</td>\n",
              "      <td>1.12</td>\n",
              "    </tr>\n",
              "    <tr>\n",
              "      <th>3</th>\n",
              "      <td>c97393_g1_i1</td>\n",
              "      <td>0.0</td>\n",
              "      <td>0.00</td>\n",
              "      <td>0.0</td>\n",
              "      <td>0.0</td>\n",
              "      <td>0.00</td>\n",
              "    </tr>\n",
              "    <tr>\n",
              "      <th>4</th>\n",
              "      <td>c100156_g1_i1</td>\n",
              "      <td>0.0</td>\n",
              "      <td>0.00</td>\n",
              "      <td>0.0</td>\n",
              "      <td>0.0</td>\n",
              "      <td>0.24</td>\n",
              "    </tr>\n",
              "  </tbody>\n",
              "</table>\n",
              "</div>"
            ],
            "text/plain": [
              "            Name  DS2_1_FPKM  DS2_2_FPKM  DS2bw1_FPKM  DS2bw2_FPKM  \\\n",
              "0   c95728_g1_i1         0.0        0.00          0.0          0.0   \n",
              "1     c280_g1_i1         0.0        0.44          0.0          0.0   \n",
              "2   c95935_g1_i1         0.0        0.00          0.0          0.0   \n",
              "3   c97393_g1_i1         0.0        0.00          0.0          0.0   \n",
              "4  c100156_g1_i1         0.0        0.00          0.0          0.0   \n",
              "\n",
              "   DS2bw3_FPKM  \n",
              "0         0.00  \n",
              "1         0.00  \n",
              "2         1.12  \n",
              "3         0.00  \n",
              "4         0.24  "
            ]
          },
          "metadata": {
            "tags": []
          },
          "execution_count": 10
        }
      ]
    },
    {
      "metadata": {
        "id": "wLORu56Fb24C",
        "colab_type": "code",
        "colab": {}
      },
      "cell_type": "code",
      "source": [
        "m12_data = m12_raw[[\"M12bw/M12wn.fc\", \"M12bw/M12wn.raw.pval\"]].apply(lambda x: x.str.replace(\",\", \".\"))\n",
        "trinity_m12_r = trinity_M12_raw[[\"M12wn2_FPKM\", \"M12wn3_FPKM\", \"M12bw1_FPKM\", \"M12bw2_FPKM\", \"M12bw3_FPKM\"]].apply(lambda x: x.str.replace(\",\", \".\"))\n",
        "\n",
        "m12_data = m12_data[[\"M12bw/M12wn.fc\", \"M12bw/M12wn.raw.pval\"]].apply(lambda x: pd.to_numeric(x, downcast=\"float\"))\n",
        "trinity_m12_r = trinity_m12_r[[\"M12wn2_FPKM\", \"M12wn3_FPKM\", \"M12bw1_FPKM\", \"M12bw2_FPKM\", \"M12bw3_FPKM\"]].apply(lambda x: pd.to_numeric(x,  downcast=\"float\"))\n",
        "\n",
        "m12_data = pd.concat([m12_raw[\"Contig\"], m12_data], axis=1)\n",
        "trinity_m12_r = pd.concat([trinity_M12_raw[\"Name\"], trinity_m12_r], axis=1)"
      ],
      "execution_count": 0,
      "outputs": []
    },
    {
      "metadata": {
        "id": "zgfmYFt6b24E",
        "colab_type": "code",
        "colab": {
          "base_uri": "https://localhost:8080/",
          "height": 204
        },
        "outputId": "6c1e828a-e635-403c-f499-3f2323656612"
      },
      "cell_type": "code",
      "source": [
        "m12_data.head()"
      ],
      "execution_count": 12,
      "outputs": [
        {
          "output_type": "execute_result",
          "data": {
            "text/html": [
              "<div>\n",
              "<style scoped>\n",
              "    .dataframe tbody tr th:only-of-type {\n",
              "        vertical-align: middle;\n",
              "    }\n",
              "\n",
              "    .dataframe tbody tr th {\n",
              "        vertical-align: top;\n",
              "    }\n",
              "\n",
              "    .dataframe thead th {\n",
              "        text-align: right;\n",
              "    }\n",
              "</style>\n",
              "<table border=\"1\" class=\"dataframe\">\n",
              "  <thead>\n",
              "    <tr style=\"text-align: right;\">\n",
              "      <th></th>\n",
              "      <th>Contig</th>\n",
              "      <th>M12bw/M12wn.fc</th>\n",
              "      <th>M12bw/M12wn.raw.pval</th>\n",
              "    </tr>\n",
              "  </thead>\n",
              "  <tbody>\n",
              "    <tr>\n",
              "      <th>0</th>\n",
              "      <td>c58_g1_i1</td>\n",
              "      <td>-1.276248</td>\n",
              "      <td>0.292010</td>\n",
              "    </tr>\n",
              "    <tr>\n",
              "      <th>1</th>\n",
              "      <td>c76_g1_i1</td>\n",
              "      <td>-1.007992</td>\n",
              "      <td>0.981078</td>\n",
              "    </tr>\n",
              "    <tr>\n",
              "      <th>2</th>\n",
              "      <td>c89_g1_i2</td>\n",
              "      <td>-1.101818</td>\n",
              "      <td>0.610101</td>\n",
              "    </tr>\n",
              "    <tr>\n",
              "      <th>3</th>\n",
              "      <td>c89_g1_i1</td>\n",
              "      <td>-1.070309</td>\n",
              "      <td>0.733172</td>\n",
              "    </tr>\n",
              "    <tr>\n",
              "      <th>4</th>\n",
              "      <td>c100_g1_i1</td>\n",
              "      <td>1.123931</td>\n",
              "      <td>0.209982</td>\n",
              "    </tr>\n",
              "  </tbody>\n",
              "</table>\n",
              "</div>"
            ],
            "text/plain": [
              "       Contig  M12bw/M12wn.fc  M12bw/M12wn.raw.pval\n",
              "0   c58_g1_i1       -1.276248              0.292010\n",
              "1   c76_g1_i1       -1.007992              0.981078\n",
              "2   c89_g1_i2       -1.101818              0.610101\n",
              "3   c89_g1_i1       -1.070309              0.733172\n",
              "4  c100_g1_i1        1.123931              0.209982"
            ]
          },
          "metadata": {
            "tags": []
          },
          "execution_count": 12
        }
      ]
    },
    {
      "metadata": {
        "id": "WmRoHz5Mb24I",
        "colab_type": "code",
        "colab": {
          "base_uri": "https://localhost:8080/",
          "height": 204
        },
        "outputId": "4e9e8933-124e-477c-abe0-20e5960353b0"
      },
      "cell_type": "code",
      "source": [
        "trinity_m12_r.head()"
      ],
      "execution_count": 13,
      "outputs": [
        {
          "output_type": "execute_result",
          "data": {
            "text/html": [
              "<div>\n",
              "<style scoped>\n",
              "    .dataframe tbody tr th:only-of-type {\n",
              "        vertical-align: middle;\n",
              "    }\n",
              "\n",
              "    .dataframe tbody tr th {\n",
              "        vertical-align: top;\n",
              "    }\n",
              "\n",
              "    .dataframe thead th {\n",
              "        text-align: right;\n",
              "    }\n",
              "</style>\n",
              "<table border=\"1\" class=\"dataframe\">\n",
              "  <thead>\n",
              "    <tr style=\"text-align: right;\">\n",
              "      <th></th>\n",
              "      <th>Name</th>\n",
              "      <th>M12wn2_FPKM</th>\n",
              "      <th>M12wn3_FPKM</th>\n",
              "      <th>M12bw1_FPKM</th>\n",
              "      <th>M12bw2_FPKM</th>\n",
              "      <th>M12bw3_FPKM</th>\n",
              "    </tr>\n",
              "  </thead>\n",
              "  <tbody>\n",
              "    <tr>\n",
              "      <th>0</th>\n",
              "      <td>c95728_g1_i1</td>\n",
              "      <td>0.00</td>\n",
              "      <td>0.18</td>\n",
              "      <td>0.21</td>\n",
              "      <td>0.0</td>\n",
              "      <td>0.0</td>\n",
              "    </tr>\n",
              "    <tr>\n",
              "      <th>1</th>\n",
              "      <td>c280_g1_i1</td>\n",
              "      <td>0.00</td>\n",
              "      <td>0.00</td>\n",
              "      <td>0.00</td>\n",
              "      <td>0.0</td>\n",
              "      <td>0.0</td>\n",
              "    </tr>\n",
              "    <tr>\n",
              "      <th>2</th>\n",
              "      <td>c95935_g1_i1</td>\n",
              "      <td>0.00</td>\n",
              "      <td>0.00</td>\n",
              "      <td>0.00</td>\n",
              "      <td>0.0</td>\n",
              "      <td>0.0</td>\n",
              "    </tr>\n",
              "    <tr>\n",
              "      <th>3</th>\n",
              "      <td>c97393_g1_i1</td>\n",
              "      <td>0.75</td>\n",
              "      <td>0.00</td>\n",
              "      <td>0.00</td>\n",
              "      <td>0.0</td>\n",
              "      <td>0.0</td>\n",
              "    </tr>\n",
              "    <tr>\n",
              "      <th>4</th>\n",
              "      <td>c100156_g1_i1</td>\n",
              "      <td>0.00</td>\n",
              "      <td>0.13</td>\n",
              "      <td>0.15</td>\n",
              "      <td>0.0</td>\n",
              "      <td>0.0</td>\n",
              "    </tr>\n",
              "  </tbody>\n",
              "</table>\n",
              "</div>"
            ],
            "text/plain": [
              "            Name  M12wn2_FPKM  M12wn3_FPKM  M12bw1_FPKM  M12bw2_FPKM  \\\n",
              "0   c95728_g1_i1         0.00         0.18         0.21          0.0   \n",
              "1     c280_g1_i1         0.00         0.00         0.00          0.0   \n",
              "2   c95935_g1_i1         0.00         0.00         0.00          0.0   \n",
              "3   c97393_g1_i1         0.75         0.00         0.00          0.0   \n",
              "4  c100156_g1_i1         0.00         0.13         0.15          0.0   \n",
              "\n",
              "   M12bw3_FPKM  \n",
              "0          0.0  \n",
              "1          0.0  \n",
              "2          0.0  \n",
              "3          0.0  \n",
              "4          0.0  "
            ]
          },
          "metadata": {
            "tags": []
          },
          "execution_count": 13
        }
      ]
    },
    {
      "metadata": {
        "id": "DlIVGusob24L",
        "colab_type": "code",
        "colab": {}
      },
      "cell_type": "code",
      "source": [
        "rxl_data = rxl_raw[[\"RXLbw/RXL.fc\", \"RXLbw/RXL.raw.pval\"]].apply(lambda x: x.str.replace(\",\", \".\"))\n",
        "trinity_RXL_r = trinity_RXL_raw[[\"RXL1_FPKM\", \"RXL2_FPKM\", \"RXLbw1_FPKM\", \"RXLbw2_FPKM\"]].apply(lambda x: x.str.replace(\",\", \".\"))\n",
        "\n",
        "rxl_data = rxl_data[[\"RXLbw/RXL.fc\", \"RXLbw/RXL.raw.pval\"]].apply(lambda x: pd.to_numeric(x, downcast=\"float\"))\n",
        "trinity_RXL_r = trinity_RXL_r[[\"RXL1_FPKM\", \"RXL2_FPKM\", \"RXLbw1_FPKM\", \"RXLbw2_FPKM\"]].apply(lambda x: pd.to_numeric(x,  downcast=\"float\"))\n",
        "\n",
        "rxl_data = pd.concat([rxl_raw[\"Contig\"], rxl_data], axis=1)\n",
        "trinity_RXL_r = pd.concat([trinity_RXL_raw[\"Name\"], trinity_RXL_r], axis=1)"
      ],
      "execution_count": 0,
      "outputs": []
    },
    {
      "metadata": {
        "id": "ewwx8Agkb24O",
        "colab_type": "code",
        "colab": {
          "base_uri": "https://localhost:8080/",
          "height": 204
        },
        "outputId": "ae090f83-2adc-4b35-bf39-1e6616843f4c"
      },
      "cell_type": "code",
      "source": [
        "rxl_data.head()"
      ],
      "execution_count": 15,
      "outputs": [
        {
          "output_type": "execute_result",
          "data": {
            "text/html": [
              "<div>\n",
              "<style scoped>\n",
              "    .dataframe tbody tr th:only-of-type {\n",
              "        vertical-align: middle;\n",
              "    }\n",
              "\n",
              "    .dataframe tbody tr th {\n",
              "        vertical-align: top;\n",
              "    }\n",
              "\n",
              "    .dataframe thead th {\n",
              "        text-align: right;\n",
              "    }\n",
              "</style>\n",
              "<table border=\"1\" class=\"dataframe\">\n",
              "  <thead>\n",
              "    <tr style=\"text-align: right;\">\n",
              "      <th></th>\n",
              "      <th>Contig</th>\n",
              "      <th>RXLbw/RXL.fc</th>\n",
              "      <th>RXLbw/RXL.raw.pval</th>\n",
              "    </tr>\n",
              "  </thead>\n",
              "  <tbody>\n",
              "    <tr>\n",
              "      <th>0</th>\n",
              "      <td>c58_g1_i1</td>\n",
              "      <td>-1.440769</td>\n",
              "      <td>0.168326</td>\n",
              "    </tr>\n",
              "    <tr>\n",
              "      <th>1</th>\n",
              "      <td>c75_g1_i1</td>\n",
              "      <td>-1.121267</td>\n",
              "      <td>0.636671</td>\n",
              "    </tr>\n",
              "    <tr>\n",
              "      <th>2</th>\n",
              "      <td>c100_g1_i1</td>\n",
              "      <td>1.046020</td>\n",
              "      <td>0.725316</td>\n",
              "    </tr>\n",
              "    <tr>\n",
              "      <th>3</th>\n",
              "      <td>c105_g1_i1</td>\n",
              "      <td>1.143527</td>\n",
              "      <td>0.158562</td>\n",
              "    </tr>\n",
              "    <tr>\n",
              "      <th>4</th>\n",
              "      <td>c116_g1_i1</td>\n",
              "      <td>-1.088905</td>\n",
              "      <td>0.159125</td>\n",
              "    </tr>\n",
              "  </tbody>\n",
              "</table>\n",
              "</div>"
            ],
            "text/plain": [
              "       Contig  RXLbw/RXL.fc  RXLbw/RXL.raw.pval\n",
              "0   c58_g1_i1     -1.440769            0.168326\n",
              "1   c75_g1_i1     -1.121267            0.636671\n",
              "2  c100_g1_i1      1.046020            0.725316\n",
              "3  c105_g1_i1      1.143527            0.158562\n",
              "4  c116_g1_i1     -1.088905            0.159125"
            ]
          },
          "metadata": {
            "tags": []
          },
          "execution_count": 15
        }
      ]
    },
    {
      "metadata": {
        "id": "djshJ5jxb24W",
        "colab_type": "code",
        "colab": {
          "base_uri": "https://localhost:8080/",
          "height": 204
        },
        "outputId": "384f5eb4-d327-4716-d5b5-d721087c7d38"
      },
      "cell_type": "code",
      "source": [
        "trinity_RXL_r.head()"
      ],
      "execution_count": 16,
      "outputs": [
        {
          "output_type": "execute_result",
          "data": {
            "text/html": [
              "<div>\n",
              "<style scoped>\n",
              "    .dataframe tbody tr th:only-of-type {\n",
              "        vertical-align: middle;\n",
              "    }\n",
              "\n",
              "    .dataframe tbody tr th {\n",
              "        vertical-align: top;\n",
              "    }\n",
              "\n",
              "    .dataframe thead th {\n",
              "        text-align: right;\n",
              "    }\n",
              "</style>\n",
              "<table border=\"1\" class=\"dataframe\">\n",
              "  <thead>\n",
              "    <tr style=\"text-align: right;\">\n",
              "      <th></th>\n",
              "      <th>Name</th>\n",
              "      <th>RXL1_FPKM</th>\n",
              "      <th>RXL2_FPKM</th>\n",
              "      <th>RXLbw1_FPKM</th>\n",
              "      <th>RXLbw2_FPKM</th>\n",
              "    </tr>\n",
              "  </thead>\n",
              "  <tbody>\n",
              "    <tr>\n",
              "      <th>0</th>\n",
              "      <td>c95728_g1_i1</td>\n",
              "      <td>0.0</td>\n",
              "      <td>0.00</td>\n",
              "      <td>0.00</td>\n",
              "      <td>0.0</td>\n",
              "    </tr>\n",
              "    <tr>\n",
              "      <th>1</th>\n",
              "      <td>c280_g1_i1</td>\n",
              "      <td>0.0</td>\n",
              "      <td>0.00</td>\n",
              "      <td>0.00</td>\n",
              "      <td>0.0</td>\n",
              "    </tr>\n",
              "    <tr>\n",
              "      <th>2</th>\n",
              "      <td>c95935_g1_i1</td>\n",
              "      <td>0.0</td>\n",
              "      <td>0.00</td>\n",
              "      <td>0.00</td>\n",
              "      <td>0.0</td>\n",
              "    </tr>\n",
              "    <tr>\n",
              "      <th>3</th>\n",
              "      <td>c97393_g1_i1</td>\n",
              "      <td>0.0</td>\n",
              "      <td>0.94</td>\n",
              "      <td>0.00</td>\n",
              "      <td>0.0</td>\n",
              "    </tr>\n",
              "    <tr>\n",
              "      <th>4</th>\n",
              "      <td>c100156_g1_i1</td>\n",
              "      <td>0.0</td>\n",
              "      <td>0.00</td>\n",
              "      <td>0.36</td>\n",
              "      <td>0.0</td>\n",
              "    </tr>\n",
              "  </tbody>\n",
              "</table>\n",
              "</div>"
            ],
            "text/plain": [
              "            Name  RXL1_FPKM  RXL2_FPKM  RXLbw1_FPKM  RXLbw2_FPKM\n",
              "0   c95728_g1_i1        0.0       0.00         0.00          0.0\n",
              "1     c280_g1_i1        0.0       0.00         0.00          0.0\n",
              "2   c95935_g1_i1        0.0       0.00         0.00          0.0\n",
              "3   c97393_g1_i1        0.0       0.94         0.00          0.0\n",
              "4  c100156_g1_i1        0.0       0.00         0.36          0.0"
            ]
          },
          "metadata": {
            "tags": []
          },
          "execution_count": 16
        }
      ]
    },
    {
      "metadata": {
        "id": "7yYB8KoRb24g",
        "colab_type": "code",
        "colab": {}
      },
      "cell_type": "code",
      "source": [
        "#get contgis name with p<0.05 and >2 or <-2 from trinity data_ser"
      ],
      "execution_count": 0,
      "outputs": []
    },
    {
      "metadata": {
        "id": "Ebohs1B7b24o",
        "colab_type": "code",
        "colab": {}
      },
      "cell_type": "code",
      "source": [
        "x = 0.01 #selection assumptions\n",
        "y = 2\n",
        "z = -2"
      ],
      "execution_count": 0,
      "outputs": []
    },
    {
      "metadata": {
        "id": "cpyT1Rp3b24u",
        "colab_type": "code",
        "colab": {}
      },
      "cell_type": "code",
      "source": [
        "ds2_data_selected = ds2_data[(ds2_data[\"DS2bw/DS2.raw.pval\"] < x) & ((ds2_data[\"DS2bw/DS2.fc\"] > y) | (ds2_data[\"DS2bw/DS2.fc\"] < z))]\n",
        "m12_data_selected = m12_data[(m12_data[\"M12bw/M12wn.raw.pval\"] < x) & ((m12_data[\"M12bw/M12wn.fc\"] > y) | (m12_data[\"M12bw/M12wn.fc\"] < z))]\n",
        "rxl_data_selected = rxl_data[(rxl_data[\"RXLbw/RXL.raw.pval\"] < x) & ((rxl_data[\"RXLbw/RXL.fc\"] > y) | (rxl_data[\"RXLbw/RXL.fc\"] < z))]"
      ],
      "execution_count": 0,
      "outputs": []
    },
    {
      "metadata": {
        "id": "Gg0xbNc7b240",
        "colab_type": "code",
        "colab": {
          "base_uri": "https://localhost:8080/",
          "height": 204
        },
        "outputId": "c5beec2a-ae61-434e-bb5d-7f5897d2a11e"
      },
      "cell_type": "code",
      "source": [
        "ds2_data_selected.head()"
      ],
      "execution_count": 20,
      "outputs": [
        {
          "output_type": "execute_result",
          "data": {
            "text/html": [
              "<div>\n",
              "<style scoped>\n",
              "    .dataframe tbody tr th:only-of-type {\n",
              "        vertical-align: middle;\n",
              "    }\n",
              "\n",
              "    .dataframe tbody tr th {\n",
              "        vertical-align: top;\n",
              "    }\n",
              "\n",
              "    .dataframe thead th {\n",
              "        text-align: right;\n",
              "    }\n",
              "</style>\n",
              "<table border=\"1\" class=\"dataframe\">\n",
              "  <thead>\n",
              "    <tr style=\"text-align: right;\">\n",
              "      <th></th>\n",
              "      <th>Contig</th>\n",
              "      <th>DS2bw/DS2.fc</th>\n",
              "      <th>DS2bw/DS2.raw.pval</th>\n",
              "    </tr>\n",
              "  </thead>\n",
              "  <tbody>\n",
              "    <tr>\n",
              "      <th>3151</th>\n",
              "      <td>c25322_g1_i1</td>\n",
              "      <td>-2.252130</td>\n",
              "      <td>0.002141</td>\n",
              "    </tr>\n",
              "    <tr>\n",
              "      <th>3903</th>\n",
              "      <td>c30179_g1_i1</td>\n",
              "      <td>-2.510241</td>\n",
              "      <td>0.004303</td>\n",
              "    </tr>\n",
              "    <tr>\n",
              "      <th>5865</th>\n",
              "      <td>c40515_g1_i1</td>\n",
              "      <td>6.007777</td>\n",
              "      <td>0.003248</td>\n",
              "    </tr>\n",
              "    <tr>\n",
              "      <th>11650</th>\n",
              "      <td>c56910_g1_i1</td>\n",
              "      <td>2.505986</td>\n",
              "      <td>0.005064</td>\n",
              "    </tr>\n",
              "    <tr>\n",
              "      <th>28077</th>\n",
              "      <td>c73719_g1_i2</td>\n",
              "      <td>3.545663</td>\n",
              "      <td>0.008579</td>\n",
              "    </tr>\n",
              "  </tbody>\n",
              "</table>\n",
              "</div>"
            ],
            "text/plain": [
              "             Contig  DS2bw/DS2.fc  DS2bw/DS2.raw.pval\n",
              "3151   c25322_g1_i1     -2.252130            0.002141\n",
              "3903   c30179_g1_i1     -2.510241            0.004303\n",
              "5865   c40515_g1_i1      6.007777            0.003248\n",
              "11650  c56910_g1_i1      2.505986            0.005064\n",
              "28077  c73719_g1_i2      3.545663            0.008579"
            ]
          },
          "metadata": {
            "tags": []
          },
          "execution_count": 20
        }
      ]
    },
    {
      "metadata": {
        "id": "8ZSbxTZvb25A",
        "colab_type": "code",
        "colab": {
          "base_uri": "https://localhost:8080/",
          "height": 204
        },
        "outputId": "185a346c-7352-49c9-df20-4792adeda8e9"
      },
      "cell_type": "code",
      "source": [
        "m12_data_selected.head()"
      ],
      "execution_count": 21,
      "outputs": [
        {
          "output_type": "execute_result",
          "data": {
            "text/html": [
              "<div>\n",
              "<style scoped>\n",
              "    .dataframe tbody tr th:only-of-type {\n",
              "        vertical-align: middle;\n",
              "    }\n",
              "\n",
              "    .dataframe tbody tr th {\n",
              "        vertical-align: top;\n",
              "    }\n",
              "\n",
              "    .dataframe thead th {\n",
              "        text-align: right;\n",
              "    }\n",
              "</style>\n",
              "<table border=\"1\" class=\"dataframe\">\n",
              "  <thead>\n",
              "    <tr style=\"text-align: right;\">\n",
              "      <th></th>\n",
              "      <th>Contig</th>\n",
              "      <th>M12bw/M12wn.fc</th>\n",
              "      <th>M12bw/M12wn.raw.pval</th>\n",
              "    </tr>\n",
              "  </thead>\n",
              "  <tbody>\n",
              "    <tr>\n",
              "      <th>913</th>\n",
              "      <td>c8449_g1_i1</td>\n",
              "      <td>-5.168671</td>\n",
              "      <td>0.007198</td>\n",
              "    </tr>\n",
              "    <tr>\n",
              "      <th>2984</th>\n",
              "      <td>c26664_g1_i1</td>\n",
              "      <td>2.291103</td>\n",
              "      <td>0.003772</td>\n",
              "    </tr>\n",
              "    <tr>\n",
              "      <th>2997</th>\n",
              "      <td>c26737_g1_i1</td>\n",
              "      <td>-2.601362</td>\n",
              "      <td>0.001181</td>\n",
              "    </tr>\n",
              "    <tr>\n",
              "      <th>3068</th>\n",
              "      <td>c27015_g1_i1</td>\n",
              "      <td>-2.104015</td>\n",
              "      <td>0.001917</td>\n",
              "    </tr>\n",
              "    <tr>\n",
              "      <th>3069</th>\n",
              "      <td>c27015_g2_i1</td>\n",
              "      <td>-2.346475</td>\n",
              "      <td>0.001967</td>\n",
              "    </tr>\n",
              "  </tbody>\n",
              "</table>\n",
              "</div>"
            ],
            "text/plain": [
              "            Contig  M12bw/M12wn.fc  M12bw/M12wn.raw.pval\n",
              "913    c8449_g1_i1       -5.168671              0.007198\n",
              "2984  c26664_g1_i1        2.291103              0.003772\n",
              "2997  c26737_g1_i1       -2.601362              0.001181\n",
              "3068  c27015_g1_i1       -2.104015              0.001917\n",
              "3069  c27015_g2_i1       -2.346475              0.001967"
            ]
          },
          "metadata": {
            "tags": []
          },
          "execution_count": 21
        }
      ]
    },
    {
      "metadata": {
        "id": "3zq7t4fAb25F",
        "colab_type": "code",
        "colab": {
          "base_uri": "https://localhost:8080/",
          "height": 204
        },
        "outputId": "7c14da0d-c84a-432a-c73d-9ee5d83888d5"
      },
      "cell_type": "code",
      "source": [
        "rxl_data_selected.head()"
      ],
      "execution_count": 22,
      "outputs": [
        {
          "output_type": "execute_result",
          "data": {
            "text/html": [
              "<div>\n",
              "<style scoped>\n",
              "    .dataframe tbody tr th:only-of-type {\n",
              "        vertical-align: middle;\n",
              "    }\n",
              "\n",
              "    .dataframe tbody tr th {\n",
              "        vertical-align: top;\n",
              "    }\n",
              "\n",
              "    .dataframe thead th {\n",
              "        text-align: right;\n",
              "    }\n",
              "</style>\n",
              "<table border=\"1\" class=\"dataframe\">\n",
              "  <thead>\n",
              "    <tr style=\"text-align: right;\">\n",
              "      <th></th>\n",
              "      <th>Contig</th>\n",
              "      <th>RXLbw/RXL.fc</th>\n",
              "      <th>RXLbw/RXL.raw.pval</th>\n",
              "    </tr>\n",
              "  </thead>\n",
              "  <tbody>\n",
              "    <tr>\n",
              "      <th>1479</th>\n",
              "      <td>c11125_g1_i2</td>\n",
              "      <td>5.021523</td>\n",
              "      <td>0.004370</td>\n",
              "    </tr>\n",
              "    <tr>\n",
              "      <th>2483</th>\n",
              "      <td>c19698_g1_i1</td>\n",
              "      <td>3.529909</td>\n",
              "      <td>0.002684</td>\n",
              "    </tr>\n",
              "    <tr>\n",
              "      <th>4793</th>\n",
              "      <td>c36932_g2_i1</td>\n",
              "      <td>-4.361333</td>\n",
              "      <td>0.005214</td>\n",
              "    </tr>\n",
              "    <tr>\n",
              "      <th>5062</th>\n",
              "      <td>c37911_g1_i1</td>\n",
              "      <td>-6.358142</td>\n",
              "      <td>0.002124</td>\n",
              "    </tr>\n",
              "    <tr>\n",
              "      <th>5224</th>\n",
              "      <td>c38443_g1_i2</td>\n",
              "      <td>-3.203660</td>\n",
              "      <td>0.006778</td>\n",
              "    </tr>\n",
              "  </tbody>\n",
              "</table>\n",
              "</div>"
            ],
            "text/plain": [
              "            Contig  RXLbw/RXL.fc  RXLbw/RXL.raw.pval\n",
              "1479  c11125_g1_i2      5.021523            0.004370\n",
              "2483  c19698_g1_i1      3.529909            0.002684\n",
              "4793  c36932_g2_i1     -4.361333            0.005214\n",
              "5062  c37911_g1_i1     -6.358142            0.002124\n",
              "5224  c38443_g1_i2     -3.203660            0.006778"
            ]
          },
          "metadata": {
            "tags": []
          },
          "execution_count": 22
        }
      ]
    },
    {
      "metadata": {
        "id": "PEgtB0Mxb25I",
        "colab_type": "code",
        "colab": {
          "base_uri": "https://localhost:8080/",
          "height": 510
        },
        "outputId": "e8b6c8a3-e182-4fbf-8454-7f0763b3c545"
      },
      "cell_type": "code",
      "source": [
        "print(\"ds2_data\")\n",
        "ds2_data_selected.info()\n",
        "print(\"-\"*50)\n",
        "print(\"m12_data\")\n",
        "m12_data_selected.info()\n",
        "print(\"-\"*50)\n",
        "print(\"rxl_data\")\n",
        "rxl_data_selected.info()"
      ],
      "execution_count": 23,
      "outputs": [
        {
          "output_type": "stream",
          "text": [
            "ds2_data\n",
            "<class 'pandas.core.frame.DataFrame'>\n",
            "Int64Index: 33 entries, 3151 to 85582\n",
            "Data columns (total 3 columns):\n",
            "Contig                33 non-null object\n",
            "DS2bw/DS2.fc          33 non-null float32\n",
            "DS2bw/DS2.raw.pval    33 non-null float32\n",
            "dtypes: float32(2), object(1)\n",
            "memory usage: 792.0+ bytes\n",
            "--------------------------------------------------\n",
            "m12_data\n",
            "<class 'pandas.core.frame.DataFrame'>\n",
            "Int64Index: 268 entries, 913 to 79082\n",
            "Data columns (total 3 columns):\n",
            "Contig                  268 non-null object\n",
            "M12bw/M12wn.fc          268 non-null float32\n",
            "M12bw/M12wn.raw.pval    268 non-null float32\n",
            "dtypes: float32(2), object(1)\n",
            "memory usage: 6.3+ KB\n",
            "--------------------------------------------------\n",
            "rxl_data\n",
            "<class 'pandas.core.frame.DataFrame'>\n",
            "Int64Index: 31 entries, 1479 to 75723\n",
            "Data columns (total 3 columns):\n",
            "Contig                31 non-null object\n",
            "RXLbw/RXL.fc          31 non-null float32\n",
            "RXLbw/RXL.raw.pval    31 non-null float32\n",
            "dtypes: float32(2), object(1)\n",
            "memory usage: 744.0+ bytes\n"
          ],
          "name": "stdout"
        }
      ]
    },
    {
      "metadata": {
        "scrolled": true,
        "id": "GWDAtl27b25M",
        "colab_type": "code",
        "colab": {}
      },
      "cell_type": "code",
      "source": [
        "trinity_DS2 = trinity_DS2_r.set_index(\"Name\", drop=True) #column 'Name' as index\n",
        "trinity_m12 = trinity_m12_r.set_index(\"Name\", drop=True)\n",
        "trinity_RXL = trinity_RXL_r.set_index(\"Name\", drop=True)"
      ],
      "execution_count": 0,
      "outputs": []
    },
    {
      "metadata": {
        "id": "pe9Nnxnhb25P",
        "colab_type": "code",
        "colab": {
          "base_uri": "https://localhost:8080/",
          "height": 235
        },
        "outputId": "76133042-5b11-47cb-88ad-0f930c81c9ec"
      },
      "cell_type": "code",
      "source": [
        "trinity_DS2.head()"
      ],
      "execution_count": 25,
      "outputs": [
        {
          "output_type": "execute_result",
          "data": {
            "text/html": [
              "<div>\n",
              "<style scoped>\n",
              "    .dataframe tbody tr th:only-of-type {\n",
              "        vertical-align: middle;\n",
              "    }\n",
              "\n",
              "    .dataframe tbody tr th {\n",
              "        vertical-align: top;\n",
              "    }\n",
              "\n",
              "    .dataframe thead th {\n",
              "        text-align: right;\n",
              "    }\n",
              "</style>\n",
              "<table border=\"1\" class=\"dataframe\">\n",
              "  <thead>\n",
              "    <tr style=\"text-align: right;\">\n",
              "      <th></th>\n",
              "      <th>DS2_1_FPKM</th>\n",
              "      <th>DS2_2_FPKM</th>\n",
              "      <th>DS2bw1_FPKM</th>\n",
              "      <th>DS2bw2_FPKM</th>\n",
              "      <th>DS2bw3_FPKM</th>\n",
              "    </tr>\n",
              "    <tr>\n",
              "      <th>Name</th>\n",
              "      <th></th>\n",
              "      <th></th>\n",
              "      <th></th>\n",
              "      <th></th>\n",
              "      <th></th>\n",
              "    </tr>\n",
              "  </thead>\n",
              "  <tbody>\n",
              "    <tr>\n",
              "      <th>c95728_g1_i1</th>\n",
              "      <td>0.0</td>\n",
              "      <td>0.00</td>\n",
              "      <td>0.0</td>\n",
              "      <td>0.0</td>\n",
              "      <td>0.00</td>\n",
              "    </tr>\n",
              "    <tr>\n",
              "      <th>c280_g1_i1</th>\n",
              "      <td>0.0</td>\n",
              "      <td>0.44</td>\n",
              "      <td>0.0</td>\n",
              "      <td>0.0</td>\n",
              "      <td>0.00</td>\n",
              "    </tr>\n",
              "    <tr>\n",
              "      <th>c95935_g1_i1</th>\n",
              "      <td>0.0</td>\n",
              "      <td>0.00</td>\n",
              "      <td>0.0</td>\n",
              "      <td>0.0</td>\n",
              "      <td>1.12</td>\n",
              "    </tr>\n",
              "    <tr>\n",
              "      <th>c97393_g1_i1</th>\n",
              "      <td>0.0</td>\n",
              "      <td>0.00</td>\n",
              "      <td>0.0</td>\n",
              "      <td>0.0</td>\n",
              "      <td>0.00</td>\n",
              "    </tr>\n",
              "    <tr>\n",
              "      <th>c100156_g1_i1</th>\n",
              "      <td>0.0</td>\n",
              "      <td>0.00</td>\n",
              "      <td>0.0</td>\n",
              "      <td>0.0</td>\n",
              "      <td>0.24</td>\n",
              "    </tr>\n",
              "  </tbody>\n",
              "</table>\n",
              "</div>"
            ],
            "text/plain": [
              "               DS2_1_FPKM  DS2_2_FPKM  DS2bw1_FPKM  DS2bw2_FPKM  DS2bw3_FPKM\n",
              "Name                                                                        \n",
              "c95728_g1_i1          0.0        0.00          0.0          0.0         0.00\n",
              "c280_g1_i1            0.0        0.44          0.0          0.0         0.00\n",
              "c95935_g1_i1          0.0        0.00          0.0          0.0         1.12\n",
              "c97393_g1_i1          0.0        0.00          0.0          0.0         0.00\n",
              "c100156_g1_i1         0.0        0.00          0.0          0.0         0.24"
            ]
          },
          "metadata": {
            "tags": []
          },
          "execution_count": 25
        }
      ]
    },
    {
      "metadata": {
        "id": "ADIFYclEb25S",
        "colab_type": "code",
        "colab": {
          "base_uri": "https://localhost:8080/",
          "height": 235
        },
        "outputId": "1434a26d-6a7c-41b2-f0cd-7fdf083ff4a4"
      },
      "cell_type": "code",
      "source": [
        "trinity_m12.head()"
      ],
      "execution_count": 26,
      "outputs": [
        {
          "output_type": "execute_result",
          "data": {
            "text/html": [
              "<div>\n",
              "<style scoped>\n",
              "    .dataframe tbody tr th:only-of-type {\n",
              "        vertical-align: middle;\n",
              "    }\n",
              "\n",
              "    .dataframe tbody tr th {\n",
              "        vertical-align: top;\n",
              "    }\n",
              "\n",
              "    .dataframe thead th {\n",
              "        text-align: right;\n",
              "    }\n",
              "</style>\n",
              "<table border=\"1\" class=\"dataframe\">\n",
              "  <thead>\n",
              "    <tr style=\"text-align: right;\">\n",
              "      <th></th>\n",
              "      <th>M12wn2_FPKM</th>\n",
              "      <th>M12wn3_FPKM</th>\n",
              "      <th>M12bw1_FPKM</th>\n",
              "      <th>M12bw2_FPKM</th>\n",
              "      <th>M12bw3_FPKM</th>\n",
              "    </tr>\n",
              "    <tr>\n",
              "      <th>Name</th>\n",
              "      <th></th>\n",
              "      <th></th>\n",
              "      <th></th>\n",
              "      <th></th>\n",
              "      <th></th>\n",
              "    </tr>\n",
              "  </thead>\n",
              "  <tbody>\n",
              "    <tr>\n",
              "      <th>c95728_g1_i1</th>\n",
              "      <td>0.00</td>\n",
              "      <td>0.18</td>\n",
              "      <td>0.21</td>\n",
              "      <td>0.0</td>\n",
              "      <td>0.0</td>\n",
              "    </tr>\n",
              "    <tr>\n",
              "      <th>c280_g1_i1</th>\n",
              "      <td>0.00</td>\n",
              "      <td>0.00</td>\n",
              "      <td>0.00</td>\n",
              "      <td>0.0</td>\n",
              "      <td>0.0</td>\n",
              "    </tr>\n",
              "    <tr>\n",
              "      <th>c95935_g1_i1</th>\n",
              "      <td>0.00</td>\n",
              "      <td>0.00</td>\n",
              "      <td>0.00</td>\n",
              "      <td>0.0</td>\n",
              "      <td>0.0</td>\n",
              "    </tr>\n",
              "    <tr>\n",
              "      <th>c97393_g1_i1</th>\n",
              "      <td>0.75</td>\n",
              "      <td>0.00</td>\n",
              "      <td>0.00</td>\n",
              "      <td>0.0</td>\n",
              "      <td>0.0</td>\n",
              "    </tr>\n",
              "    <tr>\n",
              "      <th>c100156_g1_i1</th>\n",
              "      <td>0.00</td>\n",
              "      <td>0.13</td>\n",
              "      <td>0.15</td>\n",
              "      <td>0.0</td>\n",
              "      <td>0.0</td>\n",
              "    </tr>\n",
              "  </tbody>\n",
              "</table>\n",
              "</div>"
            ],
            "text/plain": [
              "               M12wn2_FPKM  M12wn3_FPKM  M12bw1_FPKM  M12bw2_FPKM  M12bw3_FPKM\n",
              "Name                                                                          \n",
              "c95728_g1_i1          0.00         0.18         0.21          0.0          0.0\n",
              "c280_g1_i1            0.00         0.00         0.00          0.0          0.0\n",
              "c95935_g1_i1          0.00         0.00         0.00          0.0          0.0\n",
              "c97393_g1_i1          0.75         0.00         0.00          0.0          0.0\n",
              "c100156_g1_i1         0.00         0.13         0.15          0.0          0.0"
            ]
          },
          "metadata": {
            "tags": []
          },
          "execution_count": 26
        }
      ]
    },
    {
      "metadata": {
        "id": "bBDCXBeGb25W",
        "colab_type": "code",
        "colab": {
          "base_uri": "https://localhost:8080/",
          "height": 235
        },
        "outputId": "699ff199-e57f-46bb-9dce-1888867f7a2c"
      },
      "cell_type": "code",
      "source": [
        "trinity_RXL.head()"
      ],
      "execution_count": 27,
      "outputs": [
        {
          "output_type": "execute_result",
          "data": {
            "text/html": [
              "<div>\n",
              "<style scoped>\n",
              "    .dataframe tbody tr th:only-of-type {\n",
              "        vertical-align: middle;\n",
              "    }\n",
              "\n",
              "    .dataframe tbody tr th {\n",
              "        vertical-align: top;\n",
              "    }\n",
              "\n",
              "    .dataframe thead th {\n",
              "        text-align: right;\n",
              "    }\n",
              "</style>\n",
              "<table border=\"1\" class=\"dataframe\">\n",
              "  <thead>\n",
              "    <tr style=\"text-align: right;\">\n",
              "      <th></th>\n",
              "      <th>RXL1_FPKM</th>\n",
              "      <th>RXL2_FPKM</th>\n",
              "      <th>RXLbw1_FPKM</th>\n",
              "      <th>RXLbw2_FPKM</th>\n",
              "    </tr>\n",
              "    <tr>\n",
              "      <th>Name</th>\n",
              "      <th></th>\n",
              "      <th></th>\n",
              "      <th></th>\n",
              "      <th></th>\n",
              "    </tr>\n",
              "  </thead>\n",
              "  <tbody>\n",
              "    <tr>\n",
              "      <th>c95728_g1_i1</th>\n",
              "      <td>0.0</td>\n",
              "      <td>0.00</td>\n",
              "      <td>0.00</td>\n",
              "      <td>0.0</td>\n",
              "    </tr>\n",
              "    <tr>\n",
              "      <th>c280_g1_i1</th>\n",
              "      <td>0.0</td>\n",
              "      <td>0.00</td>\n",
              "      <td>0.00</td>\n",
              "      <td>0.0</td>\n",
              "    </tr>\n",
              "    <tr>\n",
              "      <th>c95935_g1_i1</th>\n",
              "      <td>0.0</td>\n",
              "      <td>0.00</td>\n",
              "      <td>0.00</td>\n",
              "      <td>0.0</td>\n",
              "    </tr>\n",
              "    <tr>\n",
              "      <th>c97393_g1_i1</th>\n",
              "      <td>0.0</td>\n",
              "      <td>0.94</td>\n",
              "      <td>0.00</td>\n",
              "      <td>0.0</td>\n",
              "    </tr>\n",
              "    <tr>\n",
              "      <th>c100156_g1_i1</th>\n",
              "      <td>0.0</td>\n",
              "      <td>0.00</td>\n",
              "      <td>0.36</td>\n",
              "      <td>0.0</td>\n",
              "    </tr>\n",
              "  </tbody>\n",
              "</table>\n",
              "</div>"
            ],
            "text/plain": [
              "               RXL1_FPKM  RXL2_FPKM  RXLbw1_FPKM  RXLbw2_FPKM\n",
              "Name                                                         \n",
              "c95728_g1_i1         0.0       0.00         0.00          0.0\n",
              "c280_g1_i1           0.0       0.00         0.00          0.0\n",
              "c95935_g1_i1         0.0       0.00         0.00          0.0\n",
              "c97393_g1_i1         0.0       0.94         0.00          0.0\n",
              "c100156_g1_i1        0.0       0.00         0.36          0.0"
            ]
          },
          "metadata": {
            "tags": []
          },
          "execution_count": 27
        }
      ]
    },
    {
      "metadata": {
        "id": "BOJdLMHob25Z",
        "colab_type": "code",
        "colab": {}
      },
      "cell_type": "code",
      "source": [
        "ds2_data_selected_ready = ds2_data_selected.set_index(\"Contig\", drop=True) #'Contig' as index\n",
        "m12_data_selected_ready = m12_data_selected.set_index(\"Contig\", drop=True)\n",
        "rxl_data_selected_ready = rxl_data_selected.set_index(\"Contig\", drop=True)"
      ],
      "execution_count": 0,
      "outputs": []
    },
    {
      "metadata": {
        "id": "qGtobA_sb25c",
        "colab_type": "code",
        "colab": {}
      },
      "cell_type": "code",
      "source": [
        "selected_contigs_ds = list(ds2_data_selected_ready.index) #get index name from data after selection\n",
        "selected_contigs_m = list(m12_data_selected_ready.index)\n",
        "selected_contigs_rxl = list(rxl_data_selected_ready.index)\n",
        "\n",
        "sum_selected_contigs = list(set(selected_contigs_ds + selected_contigs_m + selected_contigs_rxl))"
      ],
      "execution_count": 0,
      "outputs": []
    },
    {
      "metadata": {
        "id": "myHCCeOlb25g",
        "colab_type": "code",
        "colab": {}
      },
      "cell_type": "code",
      "source": [
        "trinity_DS2_selcted = trinity_DS2.loc[selected_contigs_ds] #use selected index from ds2/m12/rxl on Trinity\n",
        "trinity_M12_selcted = trinity_m12.loc[selected_contigs_m] \n",
        "trinity_RXL_selcted = trinity_RXL.loc[selected_contigs_rxl]"
      ],
      "execution_count": 0,
      "outputs": []
    },
    {
      "metadata": {
        "id": "QaPnKws3b25j",
        "colab_type": "text"
      },
      "cell_type": "markdown",
      "source": [
        "### Generate plot"
      ]
    },
    {
      "metadata": {
        "id": "aUJeea-qb25l",
        "colab_type": "code",
        "colab": {}
      },
      "cell_type": "code",
      "source": [
        "sns.set(rc={'figure.figsize':(20,12)}) "
      ],
      "execution_count": 0,
      "outputs": []
    },
    {
      "metadata": {
        "id": "4rTcOVzhb25q",
        "colab_type": "code",
        "colab": {
          "base_uri": "https://localhost:8080/",
          "height": 744
        },
        "outputId": "59954e39-2fe6-4947-dd54-4e67d849b5bd"
      },
      "cell_type": "code",
      "source": [
        "#Trinity_DS2\n",
        "ax = sns.violinplot(data=trinity_DS2_selcted, inner=None, cut=0)\n",
        "ax = sns.swarmplot(data=trinity_DS2_selcted, color=\"white\", size=4)\n",
        "ax.set(ylim=(-10, 550))\n",
        "ax.set(xlabel='Line name', ylabel='expression level')"
      ],
      "execution_count": 32,
      "outputs": [
        {
          "output_type": "execute_result",
          "data": {
            "text/plain": [
              "[Text(0, 0.5, 'expression level'), Text(0.5, 0, 'Line name')]"
            ]
          },
          "metadata": {
            "tags": []
          },
          "execution_count": 32
        },
        {
          "output_type": "display_data",
          "data": {
            "image/png": "[encoded data removed]",
            "text/plain": [
              "<Figure size 1440x864 with 1 Axes>"
            ]
          },
          "metadata": {
            "tags": []
          }
        }
      ]
    },
    {
      "metadata": {
        "id": "oa9VZecNb250",
        "colab_type": "code",
        "colab": {}
      },
      "cell_type": "code",
      "source": [
        "y = trinity_DS2_selcted.mean()\n",
        "data_DS2_mean = pd.DataFrame(data=y)\n",
        "\n",
        "z = trinity_DS2_selcted.median()\n",
        "data_DS2_med = pd.DataFrame(data=z)\n",
        "\n",
        "data = pd.concat([data_DS2_mean, data_DS2_med], axis=1)\n",
        "data.columns = [\"Mean\", \"Median\"]"
      ],
      "execution_count": 0,
      "outputs": []
    },
    {
      "metadata": {
        "id": "UUb06fdtb253",
        "colab_type": "code",
        "colab": {
          "base_uri": "https://localhost:8080/",
          "height": 710
        },
        "outputId": "958baf8c-653d-4a3f-ce5c-2244dcfeb56b"
      },
      "cell_type": "code",
      "source": [
        "ax = sns.scatterplot(data=data, s=250)"
      ],
      "execution_count": 34,
      "outputs": [
        {
          "output_type": "display_data",
          "data": {
            "image/png": "[encoded data removed]",
            "text/plain": [
              "<Figure size 1440x864 with 1 Axes>"
            ]
          },
          "metadata": {
            "tags": []
          }
        }
      ]
    },
    {
      "metadata": {
        "id": "4qXf_xlHb256",
        "colab_type": "code",
        "colab": {
          "base_uri": "https://localhost:8080/",
          "height": 764
        },
        "outputId": "fdf56444-022b-42b7-e40c-b9aefd48a39f"
      },
      "cell_type": "code",
      "source": [
        "# Trinity M12\n",
        "ax = sns.violinplot(data = trinity_M12_selcted, cut=0, inner=None)\n",
        "ax.set(ylim=(-10, 450))\n",
        "ax = sns.swarmplot(data=trinity_M12_selcted, color=\"white\", size=3)\n",
        "ax.set(xlabel='Line name', ylabel='expression level')"
      ],
      "execution_count": 35,
      "outputs": [
        {
          "output_type": "execute_result",
          "data": {
            "text/plain": [
              "[Text(0, 0.5, 'expression level'), Text(0.5, 0, 'Line name')]"
            ]
          },
          "metadata": {
            "tags": []
          },
          "execution_count": 35
        },
        {
          "output_type": "display_data",
          "data": {
            "image/png": "[encoded data removed]",
            "text/plain": [
              "<Figure size 1440x864 with 1 Axes>"
            ]
          },
          "metadata": {
            "tags": []
          }
        }
      ]
    },
    {
      "metadata": {
        "id": "0DyRX3PYb258",
        "colab_type": "code",
        "colab": {
          "base_uri": "https://localhost:8080/",
          "height": 730
        },
        "outputId": "1fc08ec9-95f8-4215-8769-8331b86b00aa"
      },
      "cell_type": "code",
      "source": [
        "y = trinity_M12_selcted.mean()\n",
        "data_DS2_mean = pd.DataFrame(data=y)\n",
        "\n",
        "z = trinity_M12_selcted.median()\n",
        "data_DS2_med = pd.DataFrame(data=z)\n",
        "\n",
        "data = pd.concat([data_DS2_mean, data_DS2_med], axis=1, sort=None)\n",
        "data.columns = [\"Mean\", \"Median\"]\n",
        "ax = sns.scatterplot(data=data, s=250)"
      ],
      "execution_count": 36,
      "outputs": [
        {
          "output_type": "display_data",
          "data": {
            "image/png": "[encoded data removed]",
            "text/plain": [
              "<Figure size 1440x864 with 1 Axes>"
            ]
          },
          "metadata": {
            "tags": []
          }
        }
      ]
    },
    {
      "metadata": {
        "id": "rHNX_Smqb25_",
        "colab_type": "code",
        "colab": {
          "base_uri": "https://localhost:8080/",
          "height": 764
        },
        "outputId": "95d36624-4475-4af8-cb62-91eda5c03aaf"
      },
      "cell_type": "code",
      "source": [
        "# Trinity RXL\n",
        "ax = sns.violinplot(data = trinity_RXL_selcted, cut=0, inner=\"point\")\n",
        "ax = sns.swarmplot(data=trinity_RXL_selcted, color=\"white\", size=3)\n",
        "\n",
        "ax.set(xlabel='Line name', ylabel='expression level')"
      ],
      "execution_count": 37,
      "outputs": [
        {
          "output_type": "execute_result",
          "data": {
            "text/plain": [
              "[Text(0, 0.5, 'expression level'), Text(0.5, 0, 'Line name')]"
            ]
          },
          "metadata": {
            "tags": []
          },
          "execution_count": 37
        },
        {
          "output_type": "display_data",
          "data": {
            "image/png": "[encoded data removed]",
            "text/plain": [
              "<Figure size 1440x864 with 1 Axes>"
            ]
          },
          "metadata": {
            "tags": []
          }
        }
      ]
    },
    {
      "metadata": {
        "scrolled": true,
        "id": "i86QUjS1b26C",
        "colab_type": "code",
        "colab": {
          "base_uri": "https://localhost:8080/",
          "height": 730
        },
        "outputId": "205b5b73-9c39-42f0-bdd9-339dcb48b3e2"
      },
      "cell_type": "code",
      "source": [
        "y = trinity_RXL_selcted.mean()\n",
        "data_DS2_mean = pd.DataFrame(data=y)\n",
        "\n",
        "z = trinity_RXL_selcted.median()\n",
        "data_DS2_med = pd.DataFrame(data=z)\n",
        "\n",
        "data = pd.concat([data_DS2_mean, data_DS2_med], axis=1, sort=None)\n",
        "data.columns = [\"Mean\", \"Median\"]\n",
        "ax = sns.scatterplot(data=data, s=250)"
      ],
      "execution_count": 38,
      "outputs": [
        {
          "output_type": "display_data",
          "data": {
            "image/png": "[encoded data removed]",
            "text/plain": [
              "<Figure size 1440x864 with 1 Axes>"
            ]
          },
          "metadata": {
            "tags": []
          }
        }
      ]
    },
    {
      "metadata": {
        "id": "ZDJudwHlb26F",
        "colab_type": "code",
        "colab": {}
      },
      "cell_type": "code",
      "source": [
        "#trinity_DS2_selcted.to_csv(\"trinity_DS2_selcted.csv\", sep=',')\n",
        "#trinity_DS2_selcted.head()"
      ],
      "execution_count": 0,
      "outputs": []
    },
    {
      "metadata": {
        "id": "A1SQD4ZUb26H",
        "colab_type": "code",
        "colab": {}
      },
      "cell_type": "code",
      "source": [
        "#trinity_M12_selcted.to_csv(\"wstępne_opracowanie/trinity_M12_selcted.csv\", sep=',')\n",
        "#trinity_M12_selcted.head()"
      ],
      "execution_count": 0,
      "outputs": []
    },
    {
      "metadata": {
        "id": "Fg1lOd9Zb26O",
        "colab_type": "code",
        "colab": {}
      },
      "cell_type": "code",
      "source": [
        "#trinity_RXL_selcted.to_csv(\"wstępne_opracowanie/trinity_RXL_selcted.csv\", sep=',')\n",
        "#trinity_RXL_selcted.head()"
      ],
      "execution_count": 0,
      "outputs": []
    },
    {
      "metadata": {
        "id": "E__kc1Gqb26U",
        "colab_type": "text"
      },
      "cell_type": "markdown",
      "source": [
        "### Data searching in NCBI database by contigs name from FASTA files"
      ]
    },
    {
      "metadata": {
        "id": "KIcg2Uwxb26V",
        "colab_type": "code",
        "colab": {}
      },
      "cell_type": "code",
      "source": [
        "from Bio import SeqIO\n",
        "from Bio.Blast import NCBIWWW\n",
        "from Bio.Blast import NCBIXML"
      ],
      "execution_count": 0,
      "outputs": []
    },
    {
      "metadata": {
        "id": "yOI_f5i2b26a",
        "colab_type": "text"
      },
      "cell_type": "markdown",
      "source": [
        "### Data pre-process"
      ]
    },
    {
      "metadata": {
        "id": "jfeDCdFMb26b",
        "colab_type": "code",
        "colab": {}
      },
      "cell_type": "code",
      "source": [
        "#progressbar\n",
        "from IPython.display import display, clear_output\n",
        "import time"
      ],
      "execution_count": 0,
      "outputs": []
    },
    {
      "metadata": {
        "id": "HoPJqYA6b26j",
        "colab_type": "code",
        "colab": {}
      },
      "cell_type": "code",
      "source": [
        "e_val = 0.05"
      ],
      "execution_count": 0,
      "outputs": []
    },
    {
      "metadata": {
        "id": "SyJ_1iqDb26n",
        "colab_type": "code",
        "colab": {}
      },
      "cell_type": "code",
      "source": [
        "#replacment tab to \\n \n",
        "with open(\"Trinity.fasta\", \"r\") as handle:\n",
        "    data = handle.read()\n",
        "\n",
        "data_out = data.replace(\"\t\", \"\\n\")\n",
        "\n",
        "with open(\"Trinity_ready.fasta\", \"w\") as out:\n",
        "    out.write(data_out)"
      ],
      "execution_count": 0,
      "outputs": []
    },
    {
      "metadata": {
        "id": "HYWGttjPb26q",
        "colab_type": "text"
      },
      "cell_type": "markdown",
      "source": [
        "### NCBI`s Api and Parser tests"
      ]
    },
    {
      "metadata": {
        "id": "RrFiX0wfb26t",
        "colab_type": "code",
        "colab": {}
      },
      "cell_type": "code",
      "source": [
        "def contig_finder(sel_contigs):\n",
        "    id_list = []\n",
        "    seq_list = []\n",
        "    with open(\"Trinity_ready.fasta\", \"r\") as handle:\n",
        "        for record in SeqIO.parse(handle, \"fasta\"):\n",
        "        \n",
        "            if record.id in sel_contigs:\n",
        "                id_list.append(record.id)\n",
        "                seq_list.append(record.seq)\n",
        "\n",
        "    query_dict = dict(zip(id_list, seq_list))\n",
        "    return query_dict, id_list"
      ],
      "execution_count": 0,
      "outputs": []
    },
    {
      "metadata": {
        "id": "LP7xR_FLb26y",
        "colab_type": "code",
        "colab": {}
      },
      "cell_type": "code",
      "source": [
        "querry_dict, id_list = contig_finder(trinity_M12_selcted.index)"
      ],
      "execution_count": 0,
      "outputs": []
    },
    {
      "metadata": {
        "id": "M-WNdR6eb261",
        "colab_type": "code",
        "colab": {
          "base_uri": "https://localhost:8080/",
          "height": 85
        },
        "outputId": "151f806a-b5e4-4ceb-f2c2-aa240a27633d"
      },
      "cell_type": "code",
      "source": [
        "file = open(\"Contigs.xml\", 'w')\n",
        "tim = []\n",
        "start = 0\n",
        "end = 0\n",
        "\n",
        "for counter, contig_data in enumerate(id_list): #Api and parser test\n",
        "    start = time.time()\n",
        "    \n",
        "    querry = str(querry_dict.get(contig_data))\n",
        "\n",
        "    result_handle = NCBIWWW.qblast(program=\"blastn\", database=\"nt\",\n",
        "                                   sequence=querry, format_type=\"XML\", \n",
        "                                   hitlist_size=10) # megablast=True        \n",
        "    clear_output()\n",
        "    display(print(\"Sequence no. {}/{} id: {}\".format((counter+1), \n",
        "                                                     len(id_list), contig_data)))\n",
        "    \n",
        "    if len(tim) < 1:\n",
        "        display(print(\"estimation of duration in progress\"))\n",
        "    \n",
        "    else:\n",
        "        mean_time = sum(tim)/len(tim)\n",
        "        querry_time = (mean_time * (len(id_list) - (counter+1))) / 60 #min    \n",
        "        \n",
        "        e_time = \"Estimated duration {}m\".format(round(querry_time, 2))\n",
        "        display(e_time)\n",
        "    \n",
        "    progress = \"Progress: {}%\".format(round((counter+1)/len(id_list) * 100, 2))\n",
        "    display(progress)\n",
        "    \n",
        "    file.write(result_handle.read())\n",
        "    \n",
        "    if counter % 30 == 0 and counter != 0: #NCBI conditions\n",
        "        time.sleep(60*20)\n",
        "        display(print('sleep'))\n",
        "    \n",
        "    else:\n",
        "        time.sleep(30)\n",
        "\n",
        "    end = time.time()\n",
        "    loop_time = end - start\n",
        "    tim.append(loop_time)\n",
        "    \n",
        "file.close()"
      ],
      "execution_count": 0,
      "outputs": [
        {
          "output_type": "stream",
          "text": [
            "Sequence no. 14/268 id: c37635_g1_i1\n"
          ],
          "name": "stdout"
        },
        {
          "output_type": "display_data",
          "data": {
            "text/plain": [
              "None"
            ]
          },
          "metadata": {
            "tags": []
          }
        },
        {
          "output_type": "display_data",
          "data": {
            "text/plain": [
              "'Estimated duration 386.13m'"
            ]
          },
          "metadata": {
            "tags": []
          }
        },
        {
          "output_type": "display_data",
          "data": {
            "text/plain": [
              "'Progress: 5.22%'"
            ]
          },
          "metadata": {
            "tags": []
          }
        }
      ]
    },
    {
      "metadata": {
        "id": "91qnNUZ0b265",
        "colab_type": "code",
        "colab": {}
      },
      "cell_type": "code",
      "source": [
        "e_threshold = 0.01"
      ],
      "execution_count": 0,
      "outputs": []
    },
    {
      "metadata": {
        "id": "vA1u10INb268",
        "colab_type": "code",
        "colab": {}
      },
      "cell_type": "code",
      "source": [
        "blast_output = open(\"Contigs.xml\")\n",
        "blast_records = NCBIXML.parse(blast_output)\n",
        "blast_results = {}"
      ],
      "execution_count": 0,
      "outputs": []
    },
    {
      "metadata": {
        "id": "Z17clpPEb27A",
        "colab_type": "code",
        "colab": {}
      },
      "cell_type": "code",
      "source": [
        "for counter, alignment in enumerate(blast_records):\n",
        "    con_id = id_list[counter]\n",
        "    rec_list = []\n",
        "    for counter, records in enumerate(alignment.alignments):\n",
        "        \n",
        "                \n",
        "        for single_rec in records.hsps:\n",
        "          \n",
        "          if single_rec.expect < e_threshold:\n",
        "            rec_list.append(records.title)\n",
        "    \n",
        "    blast_results.update({con_id:str(rec_list)})           "
      ],
      "execution_count": 0,
      "outputs": []
    },
    {
      "metadata": {
        "id": "NLBR1ruokRS8",
        "colab_type": "code",
        "colab": {}
      },
      "cell_type": "code",
      "source": [
        "df_res = pd.DataFrame(data=blast_results, index=[\"Description\"]).transpose()"
      ],
      "execution_count": 0,
      "outputs": []
    },
    {
      "metadata": {
        "id": "IbsNbumgns2u",
        "colab_type": "code",
        "colab": {}
      },
      "cell_type": "code",
      "source": [
        "df_res.to_csv(\"Blast_Results_M12.csv\", sep=\";\")"
      ],
      "execution_count": 0,
      "outputs": []
    },
    {
      "metadata": {
        "id": "W0XDJGgwb27D",
        "colab_type": "text"
      },
      "cell_type": "markdown",
      "source": [
        "### ML (Logistic regression and KNN and Decision Tree)"
      ]
    },
    {
      "metadata": {
        "id": "iBNAbNnzb27E",
        "colab_type": "code",
        "colab": {}
      },
      "cell_type": "code",
      "source": [
        "#new (lower) parameters of selection\n",
        "x = 0.5\n",
        "y = 0.2\n",
        "z = -0.2"
      ],
      "execution_count": 0,
      "outputs": []
    },
    {
      "metadata": {
        "id": "EF46aweFb27J",
        "colab_type": "code",
        "colab": {}
      },
      "cell_type": "code",
      "source": [
        "ds2_data_selected = ds2_data[(ds2_data[\"DS2bw/DS2.raw.pval\"] < x) & ((ds2_data[\"DS2bw/DS2.fc\"] > y) | (ds2_data[\"DS2bw/DS2.fc\"] < z))]\n",
        "m12_data_selected = m12_data[(m12_data[\"M12bw/M12wn.raw.pval\"] < x) & ((m12_data[\"M12bw/M12wn.fc\"] > y) | (m12_data[\"M12bw/M12wn.fc\"] < z))]\n",
        "rxl_data_selected = rxl_data[(rxl_data[\"RXLbw/RXL.raw.pval\"] < x) & ((rxl_data[\"RXLbw/RXL.fc\"] > y) | (rxl_data[\"RXLbw/RXL.fc\"] < z))]"
      ],
      "execution_count": 0,
      "outputs": []
    },
    {
      "metadata": {
        "id": "r1TgD8grb27O",
        "colab_type": "code",
        "colab": {}
      },
      "cell_type": "code",
      "source": [
        "ds2_data_selected_ready = ds2_data_selected.set_index(\"Contig\", drop=True) #'Contig' as index\n",
        "m12_data_selected_ready = m12_data_selected.set_index(\"Contig\", drop=True)\n",
        "rxl_data_selected_ready = rxl_data_selected.set_index(\"Contig\", drop=True)"
      ],
      "execution_count": 0,
      "outputs": []
    },
    {
      "metadata": {
        "id": "PsCR8vwGb27Q",
        "colab_type": "code",
        "colab": {}
      },
      "cell_type": "code",
      "source": [
        "selected_contigs_ds = list(ds2_data_selected_ready.index) #get index name from data after selection\n",
        "selected_contigs_m = list(m12_data_selected_ready.index)\n",
        "selected_contigs_rxl = list(rxl_data_selected_ready.index)\n",
        "\n",
        "sum_selected_contigs = list(set(selected_contigs_ds + selected_contigs_m + selected_contigs_rxl))\n",
        "\n",
        "trinity_DS2_selcted = trinity_DS2.loc[selected_contigs_ds] #use selected index from ds2/m12/rxl on Trinity\n",
        "trinity_M12_selcted = trinity_m12.loc[selected_contigs_m] \n",
        "trinity_RXL_selcted = trinity_RXL.loc[selected_contigs_rxl]"
      ],
      "execution_count": 0,
      "outputs": []
    },
    {
      "metadata": {
        "id": "8vhvhUc1b27T",
        "colab_type": "code",
        "colab": {}
      },
      "cell_type": "code",
      "source": [
        "try:\n",
        "    del trinity_DS2_selcted.index.name\n",
        "    del trinity_M12_selcted.index.name\n",
        "    del trinity_RXL_selcted.index.name\n",
        "except:\n",
        "    pass"
      ],
      "execution_count": 0,
      "outputs": []
    },
    {
      "metadata": {
        "id": "riS1xPL8b27U",
        "colab_type": "code",
        "colab": {}
      },
      "cell_type": "code",
      "source": [
        "trinity_ds2_ready = trinity_DS2_selcted.transpose()\n",
        "trinity_m12_ready = trinity_M12_selcted.transpose()\n",
        "trinity_rxl_ready = trinity_RXL_selcted.transpose()"
      ],
      "execution_count": 0,
      "outputs": []
    },
    {
      "metadata": {
        "id": "Ega70mXqb27W",
        "colab_type": "code",
        "colab": {}
      },
      "cell_type": "code",
      "source": [
        "trinity_ds2_ready_r = trinity_ds2_ready.reset_index()\n",
        "trinity_m12_ready_r = trinity_m12_ready.reset_index()\n",
        "trinity_rxl_ready_r = trinity_rxl_ready.reset_index()"
      ],
      "execution_count": 0,
      "outputs": []
    },
    {
      "metadata": {
        "id": "TEkc-FENb27Y",
        "colab_type": "code",
        "colab": {}
      },
      "cell_type": "code",
      "source": [
        "try:\n",
        "    trinity_ds2_ready_r[\"index\"].replace([\"DS2_1_FPKM\", \"DS2_2_FPKM\"], 1, inplace=True)\n",
        "    trinity_m12_ready_r[\"index\"].replace([\"M12wn2_FPKM\", \"M12wn3_FPKM\"], 1, inplace=True)\n",
        "    trinity_rxl_ready_r[\"index\"].replace([\"RXL1_FPKM\", \"RXL2_FPKM\"], 1, inplace=True)\n",
        "\n",
        "    trinity_ds2_ready_r[\"index\"].replace([\"DS2bw1_FPKM\", \"DS2bw2_FPKM\", \"DS2bw3_FPKM\"], 0, inplace=True)\n",
        "    trinity_m12_ready_r[\"index\"].replace([\"M12bw1_FPKM\", \"M12bw2_FPKM\", \"M12bw3_FPKM\"], 0, inplace=True)\n",
        "    trinity_rxl_ready_r[\"index\"].replace([\"RXLbw1_FPKM\", \"RXLbw2_FPKM\"], 0, inplace=True)\n",
        "\n",
        "except():\n",
        "    pass"
      ],
      "execution_count": 0,
      "outputs": []
    },
    {
      "metadata": {
        "id": "zSW2Ulteb27c",
        "colab_type": "code",
        "colab": {}
      },
      "cell_type": "code",
      "source": [
        "col_x = list(trinity_ds2_ready_r.columns)\n",
        "col_x[0] = \"Class\"\n",
        "trinity_ds2_ready_r.columns = col_x\n",
        "\n",
        "col_x = list(trinity_m12_ready_r.columns)\n",
        "col_x[0] = \"Class\"\n",
        "trinity_m12_ready_r.columns = col_x\n",
        "\n",
        "col_x = list(trinity_rxl_ready_r.columns)\n",
        "col_x[0] = \"Class\"\n",
        "trinity_rxl_ready_r.columns = col_x"
      ],
      "execution_count": 0,
      "outputs": []
    },
    {
      "metadata": {
        "id": "BnNMCUCYb27d",
        "colab_type": "code",
        "colab": {}
      },
      "cell_type": "code",
      "source": [
        "print(\"trinity_ds2_ready\")\n",
        "trinity_ds2_ready.info()\n",
        "print(\"-\"*50)\n",
        "print(\"trinity_m12_ready\")\n",
        "trinity_m12_ready.info()\n",
        "print(\"-\"*50)\n",
        "print(\"trinity_rxl_ready\")\n",
        "trinity_rxl_ready.info()"
      ],
      "execution_count": 0,
      "outputs": []
    },
    {
      "metadata": {
        "id": "UY2IQcI1b27f",
        "colab_type": "code",
        "colab": {}
      },
      "cell_type": "code",
      "source": [
        "reduce_con_list = trinity_rxl_ready_r.columns.tolist()\n",
        "m12_list = trinity_m12_ready_r.columns.tolist()\n",
        "ds2_list = trinity_ds2_ready_r.columns.tolist()\n",
        "\n",
        "reduce_con_list = set(reduce_con_list)\n",
        "m12_list = set(m12_list)\n",
        "ds2_list = set(ds2_list)\n",
        "\n",
        "contigs = list(ds2_list.intersection(m12_list, reduce_con_list))\n",
        "contigs_r = []\n",
        "\n",
        "for e in contigs:\n",
        "    if e != \"Class\":\n",
        "        contigs_r.append(e)\n",
        "    else:\n",
        "        continue"
      ],
      "execution_count": 0,
      "outputs": []
    },
    {
      "metadata": {
        "id": "sC54zP9Lb27m",
        "colab_type": "code",
        "colab": {}
      },
      "cell_type": "code",
      "source": [
        "if len(contigs_r) > 1:\n",
        "    trinity_rxl_ready = trinity_rxl_ready_r[contigs]\n",
        "    trinity_m12_ready = trinity_m12_ready_r[contigs]\n",
        "    trinity_ds2_ready = trinity_ds2_ready_r[contigs]\n",
        "\n",
        "    dataf = pd.concat([trinity_ds2_ready, trinity_m12_ready, trinity_rxl_ready])\n",
        "    x_set = dataf.columns.tolist()    \n",
        "else:\n",
        "    print(\"No data, change selection parameters\")"
      ],
      "execution_count": 0,
      "outputs": []
    },
    {
      "metadata": {
        "id": "rNC4rmOtb27p",
        "colab_type": "code",
        "colab": {}
      },
      "cell_type": "code",
      "source": [
        "y = dataf[\"Class\"]\n",
        "x = dataf[x_set]"
      ],
      "execution_count": 0,
      "outputs": []
    },
    {
      "metadata": {
        "id": "MocEcFpPb27t",
        "colab_type": "text"
      },
      "cell_type": "markdown",
      "source": [
        "### Logistic Regression"
      ]
    },
    {
      "metadata": {
        "id": "FX69UjX5b27v",
        "colab_type": "code",
        "colab": {}
      },
      "cell_type": "code",
      "source": [
        "from sklearn.model_selection import train_test_split\n",
        "X_train, X_test, y_train, y_test = train_test_split(x, y, test_size=0.7)"
      ],
      "execution_count": 0,
      "outputs": []
    },
    {
      "metadata": {
        "id": "R530ezkzb27x",
        "colab_type": "code",
        "colab": {}
      },
      "cell_type": "code",
      "source": [
        "from sklearn.linear_model import LogisticRegression\n",
        "from sklearn.metrics import classification_report"
      ],
      "execution_count": 0,
      "outputs": []
    },
    {
      "metadata": {
        "id": "tac3Q-evb27z",
        "colab_type": "code",
        "colab": {}
      },
      "cell_type": "code",
      "source": [
        "lg = LogisticRegression(solver=\"lbfgs\")\n",
        "lg.fit(X_train,y_train)"
      ],
      "execution_count": 0,
      "outputs": []
    },
    {
      "metadata": {
        "id": "zLRkJFxOb270",
        "colab_type": "code",
        "colab": {}
      },
      "cell_type": "code",
      "source": [
        "predictions = lg.predict(X_test)\n",
        "predictions"
      ],
      "execution_count": 0,
      "outputs": []
    },
    {
      "metadata": {
        "id": "Q3ElOeJyb271",
        "colab_type": "code",
        "colab": {}
      },
      "cell_type": "code",
      "source": [
        "print(classification_report(y_test,predictions))"
      ],
      "execution_count": 0,
      "outputs": []
    },
    {
      "metadata": {
        "id": "1zn1uzldb273",
        "colab_type": "text"
      },
      "cell_type": "markdown",
      "source": [
        "### KNN"
      ]
    },
    {
      "metadata": {
        "id": "Tvnbnh06b275",
        "colab_type": "code",
        "colab": {}
      },
      "cell_type": "code",
      "source": [
        "from sklearn.neighbors import KNeighborsClassifier\n",
        "from sklearn.metrics import classification_report, confusion_matrix\n",
        "from sklearn.preprocessing import StandardScaler\n",
        "knn = KNeighborsClassifier(n_neighbors=1)"
      ],
      "execution_count": 0,
      "outputs": []
    },
    {
      "metadata": {
        "id": "5JWSzfmGb277",
        "colab_type": "code",
        "colab": {}
      },
      "cell_type": "code",
      "source": [
        "scal = StandardScaler()\n",
        "scal.fit(x)\n",
        "scaled_features = scal.transform(x)\n",
        "x.head()"
      ],
      "execution_count": 0,
      "outputs": []
    },
    {
      "metadata": {
        "id": "5slA0Ge3b27_",
        "colab_type": "code",
        "colab": {}
      },
      "cell_type": "code",
      "source": [
        "X_train, X_test, y_train, y_test = train_test_split(x, y, test_size=0.3)\n",
        "knn.fit(X_train,y_train)"
      ],
      "execution_count": 0,
      "outputs": []
    },
    {
      "metadata": {
        "id": "gCwom9TOb28C",
        "colab_type": "code",
        "colab": {}
      },
      "cell_type": "code",
      "source": [
        "pred = knn.predict(X_test)"
      ],
      "execution_count": 0,
      "outputs": []
    },
    {
      "metadata": {
        "id": "6aciroryb28J",
        "colab_type": "code",
        "colab": {}
      },
      "cell_type": "code",
      "source": [
        "print(confusion_matrix(y_test,pred))"
      ],
      "execution_count": 0,
      "outputs": []
    },
    {
      "metadata": {
        "id": "FWC3rdfbb28L",
        "colab_type": "code",
        "colab": {}
      },
      "cell_type": "code",
      "source": [
        "error_rate = []\n",
        "for i in range(1,4):\n",
        "    \n",
        "    knn = KNeighborsClassifier(n_neighbors=i)\n",
        "    knn.fit(X_train,y_train)\n",
        "    pred_i = knn.predict(X_test)\n",
        "    \n",
        "    error_rate.append(np.mean(pred_i != y_test))\n",
        "    \n",
        "plt.figure(figsize=(10,6))\n",
        "plt.plot(range(1,4),error_rate,color='blue', linestyle='dashed', marker='o',\n",
        "         markerfacecolor='red', markersize=10)\n",
        "\n",
        "plt.title('Error Rate vs. K Value')\n",
        "plt.xlabel('K')\n",
        "plt.ylabel('Error Rate')"
      ],
      "execution_count": 0,
      "outputs": []
    }
  ]
}