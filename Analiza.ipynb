{
 "cells": [
  {
   "cell_type": "markdown",
   "metadata": {
    "colab_type": "text",
    "id": "MnDN3DuCb23T"
   },
   "source": [
    "## Testing raw code to inital transciptome analysis"
   ]
  },
  {
   "cell_type": "markdown",
   "metadata": {
    "colab_type": "text",
    "id": "8uotvFDob23W"
   },
   "source": [
    "### This is pre-code !"
   ]
  },
  {
   "cell_type": "markdown",
   "metadata": {
    "colab_type": "text",
    "id": "ZftNae2vb23e"
   },
   "source": [
    "### Data import and pre-process"
   ]
  },
  {
   "cell_type": "code",
   "execution_count": 120,
   "metadata": {
    "colab": {},
    "colab_type": "code",
    "id": "zO36CN-Ub23Y"
   },
   "outputs": [],
   "source": [
    "import pandas as pd\n",
    "import numpy as np\n",
    "import Bio\n",
    "import seaborn as sns\n",
    "import matplotlib.pyplot as plt"
   ]
  },
  {
   "cell_type": "code",
   "execution_count": 121,
   "metadata": {
    "colab": {},
    "colab_type": "code",
    "id": "JFGy490tb23f"
   },
   "outputs": [],
   "source": [
    "trinity_DS2_raw = pd.read_csv(\"csv_data/MOJE_Trinity_DS2.csv\", delimiter=\";\", header=1) \n",
    "trinity_M12_raw = pd.read_csv(\"csv_data/MOJE_Trinity_M12.csv\", delimiter=\";\", header=1) \n",
    "trinity_RXL_raw = pd.read_csv(\"csv_data/MOJE_Trinity_RXL.csv\", delimiter=\";\", header=1) \n",
    "# DS2/m12/rxl strains - full contig expression data set: 2w / 3bzw"
   ]
  },
  {
   "cell_type": "code",
   "execution_count": 122,
   "metadata": {
    "colab": {},
    "colab_type": "code",
    "id": "JGFG4CFMb23l"
   },
   "outputs": [],
   "source": [
    "ds2_raw = pd.read_csv(\"csv_data/data2_DS2.csv\", delimiter=\";\") \n",
    "m12_raw = pd.read_csv(\"csv_data/data2_M12.csv\", delimiter=\";\") \n",
    "rxl_raw = pd.read_csv(\"csv_data/data2_RXL10.csv\", delimiter=\";\") \n",
    "\n",
    "# DS2/m12/rxl stat data, proportin w/bzw and p-value"
   ]
  },
  {
   "cell_type": "code",
   "execution_count": 123,
   "metadata": {
    "colab": {},
    "colab_type": "code",
    "id": "sg0dIFhVb23r"
   },
   "outputs": [],
   "source": [
    "l = [] #df display options\n",
    "l.append(len(trinity_DS2_raw.columns))\n",
    "l.append(len(ds2_raw.columns))\n",
    "col_n = max(l)\n",
    "pd.set_option('display.max_columns', col_n)"
   ]
  },
  {
   "cell_type": "code",
   "execution_count": 124,
   "metadata": {
    "colab": {},
    "colab_type": "code",
    "id": "K6mLqJhsb23w"
   },
   "outputs": [],
   "source": [
    "#pre-process of csv\n",
    "ds2_data = ds2_raw[[\"DS2bw/DS2.fc\", \"DS2bw/DS2.raw.pval\"]].apply(lambda x: x.str.replace(\",\", \".\"))\n",
    "trinity_DS2_r = trinity_DS2_raw[[\"DS2_1_FPKM\", \"DS2_2_FPKM\", \"DS2bw1_FPKM\", \"DS2bw2_FPKM\", \"DS2bw3_FPKM\"]].apply(lambda x: x.str.replace(\",\", \".\"))\n",
    "\n",
    "ds2_data = ds2_data[[\"DS2bw/DS2.fc\", \"DS2bw/DS2.raw.pval\"]].apply(lambda x: pd.to_numeric(x, downcast=\"float\"))\n",
    "trinity_DS2_r = trinity_DS2_r[[\"DS2_1_FPKM\", \"DS2_2_FPKM\", \"DS2bw1_FPKM\", \"DS2bw2_FPKM\", \"DS2bw3_FPKM\"]].apply(lambda x: pd.to_numeric(x,  downcast=\"float\"))\n",
    "\n",
    "ds2_data = pd.concat([ds2_raw[\"Contig\"], ds2_data], axis=1)\n",
    "trinity_DS2_r = pd.concat([trinity_DS2_raw[\"Name\"], trinity_DS2_r], axis=1)"
   ]
  },
  {
   "cell_type": "code",
   "execution_count": 125,
   "metadata": {
    "colab": {
     "base_uri": "https://localhost:8080/",
     "height": 204
    },
    "colab_type": "code",
    "id": "ig2Grzfrb232",
    "outputId": "cf6351b3-f8c0-4ac8-de52-d8557352edeb"
   },
   "outputs": [
    {
     "data": {
      "text/html": [
       "<div>\n",
       "<style scoped>\n",
       "    .dataframe tbody tr th:only-of-type {\n",
       "        vertical-align: middle;\n",
       "    }\n",
       "\n",
       "    .dataframe tbody tr th {\n",
       "        vertical-align: top;\n",
       "    }\n",
       "\n",
       "    .dataframe thead th {\n",
       "        text-align: right;\n",
       "    }\n",
       "</style>\n",
       "<table border=\"1\" class=\"dataframe\">\n",
       "  <thead>\n",
       "    <tr style=\"text-align: right;\">\n",
       "      <th></th>\n",
       "      <th>Contig</th>\n",
       "      <th>DS2bw/DS2.fc</th>\n",
       "      <th>DS2bw/DS2.raw.pval</th>\n",
       "    </tr>\n",
       "  </thead>\n",
       "  <tbody>\n",
       "    <tr>\n",
       "      <th>0</th>\n",
       "      <td>c58_g1_i1</td>\n",
       "      <td>-1.253778</td>\n",
       "      <td>0.231288</td>\n",
       "    </tr>\n",
       "    <tr>\n",
       "      <th>1</th>\n",
       "      <td>c100_g1_i1</td>\n",
       "      <td>1.077082</td>\n",
       "      <td>0.264728</td>\n",
       "    </tr>\n",
       "    <tr>\n",
       "      <th>2</th>\n",
       "      <td>c104_g1_i1</td>\n",
       "      <td>1.018095</td>\n",
       "      <td>0.760636</td>\n",
       "    </tr>\n",
       "    <tr>\n",
       "      <th>3</th>\n",
       "      <td>c116_g1_i1</td>\n",
       "      <td>-1.138862</td>\n",
       "      <td>0.413884</td>\n",
       "    </tr>\n",
       "    <tr>\n",
       "      <th>4</th>\n",
       "      <td>c123_g1_i1</td>\n",
       "      <td>1.111505</td>\n",
       "      <td>0.325058</td>\n",
       "    </tr>\n",
       "  </tbody>\n",
       "</table>\n",
       "</div>"
      ],
      "text/plain": [
       "       Contig  DS2bw/DS2.fc  DS2bw/DS2.raw.pval\n",
       "0   c58_g1_i1     -1.253778            0.231288\n",
       "1  c100_g1_i1      1.077082            0.264728\n",
       "2  c104_g1_i1      1.018095            0.760636\n",
       "3  c116_g1_i1     -1.138862            0.413884\n",
       "4  c123_g1_i1      1.111505            0.325058"
      ]
     },
     "execution_count": 125,
     "metadata": {},
     "output_type": "execute_result"
    }
   ],
   "source": [
    "ds2_data.head()"
   ]
  },
  {
   "cell_type": "code",
   "execution_count": 126,
   "metadata": {
    "colab": {
     "base_uri": "https://localhost:8080/",
     "height": 204
    },
    "colab_type": "code",
    "id": "gUeEqideb23-",
    "outputId": "b9e7a9a6-bbeb-4494-fc43-628dce7acef7"
   },
   "outputs": [
    {
     "data": {
      "text/html": [
       "<div>\n",
       "<style scoped>\n",
       "    .dataframe tbody tr th:only-of-type {\n",
       "        vertical-align: middle;\n",
       "    }\n",
       "\n",
       "    .dataframe tbody tr th {\n",
       "        vertical-align: top;\n",
       "    }\n",
       "\n",
       "    .dataframe thead th {\n",
       "        text-align: right;\n",
       "    }\n",
       "</style>\n",
       "<table border=\"1\" class=\"dataframe\">\n",
       "  <thead>\n",
       "    <tr style=\"text-align: right;\">\n",
       "      <th></th>\n",
       "      <th>Name</th>\n",
       "      <th>DS2_1_FPKM</th>\n",
       "      <th>DS2_2_FPKM</th>\n",
       "      <th>DS2bw1_FPKM</th>\n",
       "      <th>DS2bw2_FPKM</th>\n",
       "      <th>DS2bw3_FPKM</th>\n",
       "    </tr>\n",
       "  </thead>\n",
       "  <tbody>\n",
       "    <tr>\n",
       "      <th>0</th>\n",
       "      <td>c95728_g1_i1</td>\n",
       "      <td>0.0</td>\n",
       "      <td>0.00</td>\n",
       "      <td>0.0</td>\n",
       "      <td>0.0</td>\n",
       "      <td>0.00</td>\n",
       "    </tr>\n",
       "    <tr>\n",
       "      <th>1</th>\n",
       "      <td>c280_g1_i1</td>\n",
       "      <td>0.0</td>\n",
       "      <td>0.44</td>\n",
       "      <td>0.0</td>\n",
       "      <td>0.0</td>\n",
       "      <td>0.00</td>\n",
       "    </tr>\n",
       "    <tr>\n",
       "      <th>2</th>\n",
       "      <td>c95935_g1_i1</td>\n",
       "      <td>0.0</td>\n",
       "      <td>0.00</td>\n",
       "      <td>0.0</td>\n",
       "      <td>0.0</td>\n",
       "      <td>1.12</td>\n",
       "    </tr>\n",
       "    <tr>\n",
       "      <th>3</th>\n",
       "      <td>c97393_g1_i1</td>\n",
       "      <td>0.0</td>\n",
       "      <td>0.00</td>\n",
       "      <td>0.0</td>\n",
       "      <td>0.0</td>\n",
       "      <td>0.00</td>\n",
       "    </tr>\n",
       "    <tr>\n",
       "      <th>4</th>\n",
       "      <td>c100156_g1_i1</td>\n",
       "      <td>0.0</td>\n",
       "      <td>0.00</td>\n",
       "      <td>0.0</td>\n",
       "      <td>0.0</td>\n",
       "      <td>0.24</td>\n",
       "    </tr>\n",
       "  </tbody>\n",
       "</table>\n",
       "</div>"
      ],
      "text/plain": [
       "            Name  DS2_1_FPKM  DS2_2_FPKM  DS2bw1_FPKM  DS2bw2_FPKM  \\\n",
       "0   c95728_g1_i1         0.0        0.00          0.0          0.0   \n",
       "1     c280_g1_i1         0.0        0.44          0.0          0.0   \n",
       "2   c95935_g1_i1         0.0        0.00          0.0          0.0   \n",
       "3   c97393_g1_i1         0.0        0.00          0.0          0.0   \n",
       "4  c100156_g1_i1         0.0        0.00          0.0          0.0   \n",
       "\n",
       "   DS2bw3_FPKM  \n",
       "0         0.00  \n",
       "1         0.00  \n",
       "2         1.12  \n",
       "3         0.00  \n",
       "4         0.24  "
      ]
     },
     "execution_count": 126,
     "metadata": {},
     "output_type": "execute_result"
    }
   ],
   "source": [
    "trinity_DS2_r.head()"
   ]
  },
  {
   "cell_type": "code",
   "execution_count": 127,
   "metadata": {
    "colab": {},
    "colab_type": "code",
    "id": "wLORu56Fb24C"
   },
   "outputs": [],
   "source": [
    "m12_data = m12_raw[[\"M12bw/M12wn.fc\", \"M12bw/M12wn.raw.pval\"]].apply(lambda x: x.str.replace(\",\", \".\"))\n",
    "trinity_m12_r = trinity_M12_raw[[\"M12wn2_FPKM\", \"M12wn3_FPKM\", \"M12bw1_FPKM\", \"M12bw2_FPKM\", \"M12bw3_FPKM\"]].apply(lambda x: x.str.replace(\",\", \".\"))\n",
    "\n",
    "m12_data = m12_data[[\"M12bw/M12wn.fc\", \"M12bw/M12wn.raw.pval\"]].apply(lambda x: pd.to_numeric(x, downcast=\"float\"))\n",
    "trinity_m12_r = trinity_m12_r[[\"M12wn2_FPKM\", \"M12wn3_FPKM\", \"M12bw1_FPKM\", \"M12bw2_FPKM\", \"M12bw3_FPKM\"]].apply(lambda x: pd.to_numeric(x,  downcast=\"float\"))\n",
    "\n",
    "m12_data = pd.concat([m12_raw[\"Contig\"], m12_data], axis=1)\n",
    "trinity_m12_r = pd.concat([trinity_M12_raw[\"Name\"], trinity_m12_r], axis=1)"
   ]
  },
  {
   "cell_type": "code",
   "execution_count": 128,
   "metadata": {
    "colab": {
     "base_uri": "https://localhost:8080/",
     "height": 204
    },
    "colab_type": "code",
    "id": "zgfmYFt6b24E",
    "outputId": "6c1e828a-e635-403c-f499-3f2323656612"
   },
   "outputs": [
    {
     "data": {
      "text/html": [
       "<div>\n",
       "<style scoped>\n",
       "    .dataframe tbody tr th:only-of-type {\n",
       "        vertical-align: middle;\n",
       "    }\n",
       "\n",
       "    .dataframe tbody tr th {\n",
       "        vertical-align: top;\n",
       "    }\n",
       "\n",
       "    .dataframe thead th {\n",
       "        text-align: right;\n",
       "    }\n",
       "</style>\n",
       "<table border=\"1\" class=\"dataframe\">\n",
       "  <thead>\n",
       "    <tr style=\"text-align: right;\">\n",
       "      <th></th>\n",
       "      <th>Contig</th>\n",
       "      <th>M12bw/M12wn.fc</th>\n",
       "      <th>M12bw/M12wn.raw.pval</th>\n",
       "    </tr>\n",
       "  </thead>\n",
       "  <tbody>\n",
       "    <tr>\n",
       "      <th>0</th>\n",
       "      <td>c58_g1_i1</td>\n",
       "      <td>-1.276248</td>\n",
       "      <td>0.292010</td>\n",
       "    </tr>\n",
       "    <tr>\n",
       "      <th>1</th>\n",
       "      <td>c76_g1_i1</td>\n",
       "      <td>-1.007992</td>\n",
       "      <td>0.981078</td>\n",
       "    </tr>\n",
       "    <tr>\n",
       "      <th>2</th>\n",
       "      <td>c89_g1_i2</td>\n",
       "      <td>-1.101818</td>\n",
       "      <td>0.610101</td>\n",
       "    </tr>\n",
       "    <tr>\n",
       "      <th>3</th>\n",
       "      <td>c89_g1_i1</td>\n",
       "      <td>-1.070309</td>\n",
       "      <td>0.733172</td>\n",
       "    </tr>\n",
       "    <tr>\n",
       "      <th>4</th>\n",
       "      <td>c100_g1_i1</td>\n",
       "      <td>1.123931</td>\n",
       "      <td>0.209982</td>\n",
       "    </tr>\n",
       "  </tbody>\n",
       "</table>\n",
       "</div>"
      ],
      "text/plain": [
       "       Contig  M12bw/M12wn.fc  M12bw/M12wn.raw.pval\n",
       "0   c58_g1_i1       -1.276248              0.292010\n",
       "1   c76_g1_i1       -1.007992              0.981078\n",
       "2   c89_g1_i2       -1.101818              0.610101\n",
       "3   c89_g1_i1       -1.070309              0.733172\n",
       "4  c100_g1_i1        1.123931              0.209982"
      ]
     },
     "execution_count": 128,
     "metadata": {},
     "output_type": "execute_result"
    }
   ],
   "source": [
    "m12_data.head()"
   ]
  },
  {
   "cell_type": "code",
   "execution_count": 129,
   "metadata": {
    "colab": {
     "base_uri": "https://localhost:8080/",
     "height": 204
    },
    "colab_type": "code",
    "id": "WmRoHz5Mb24I",
    "outputId": "4e9e8933-124e-477c-abe0-20e5960353b0"
   },
   "outputs": [
    {
     "data": {
      "text/html": [
       "<div>\n",
       "<style scoped>\n",
       "    .dataframe tbody tr th:only-of-type {\n",
       "        vertical-align: middle;\n",
       "    }\n",
       "\n",
       "    .dataframe tbody tr th {\n",
       "        vertical-align: top;\n",
       "    }\n",
       "\n",
       "    .dataframe thead th {\n",
       "        text-align: right;\n",
       "    }\n",
       "</style>\n",
       "<table border=\"1\" class=\"dataframe\">\n",
       "  <thead>\n",
       "    <tr style=\"text-align: right;\">\n",
       "      <th></th>\n",
       "      <th>Name</th>\n",
       "      <th>M12wn2_FPKM</th>\n",
       "      <th>M12wn3_FPKM</th>\n",
       "      <th>M12bw1_FPKM</th>\n",
       "      <th>M12bw2_FPKM</th>\n",
       "      <th>M12bw3_FPKM</th>\n",
       "    </tr>\n",
       "  </thead>\n",
       "  <tbody>\n",
       "    <tr>\n",
       "      <th>0</th>\n",
       "      <td>c95728_g1_i1</td>\n",
       "      <td>0.00</td>\n",
       "      <td>0.18</td>\n",
       "      <td>0.21</td>\n",
       "      <td>0.0</td>\n",
       "      <td>0.0</td>\n",
       "    </tr>\n",
       "    <tr>\n",
       "      <th>1</th>\n",
       "      <td>c280_g1_i1</td>\n",
       "      <td>0.00</td>\n",
       "      <td>0.00</td>\n",
       "      <td>0.00</td>\n",
       "      <td>0.0</td>\n",
       "      <td>0.0</td>\n",
       "    </tr>\n",
       "    <tr>\n",
       "      <th>2</th>\n",
       "      <td>c95935_g1_i1</td>\n",
       "      <td>0.00</td>\n",
       "      <td>0.00</td>\n",
       "      <td>0.00</td>\n",
       "      <td>0.0</td>\n",
       "      <td>0.0</td>\n",
       "    </tr>\n",
       "    <tr>\n",
       "      <th>3</th>\n",
       "      <td>c97393_g1_i1</td>\n",
       "      <td>0.75</td>\n",
       "      <td>0.00</td>\n",
       "      <td>0.00</td>\n",
       "      <td>0.0</td>\n",
       "      <td>0.0</td>\n",
       "    </tr>\n",
       "    <tr>\n",
       "      <th>4</th>\n",
       "      <td>c100156_g1_i1</td>\n",
       "      <td>0.00</td>\n",
       "      <td>0.13</td>\n",
       "      <td>0.15</td>\n",
       "      <td>0.0</td>\n",
       "      <td>0.0</td>\n",
       "    </tr>\n",
       "  </tbody>\n",
       "</table>\n",
       "</div>"
      ],
      "text/plain": [
       "            Name  M12wn2_FPKM  M12wn3_FPKM  M12bw1_FPKM  M12bw2_FPKM  \\\n",
       "0   c95728_g1_i1         0.00         0.18         0.21          0.0   \n",
       "1     c280_g1_i1         0.00         0.00         0.00          0.0   \n",
       "2   c95935_g1_i1         0.00         0.00         0.00          0.0   \n",
       "3   c97393_g1_i1         0.75         0.00         0.00          0.0   \n",
       "4  c100156_g1_i1         0.00         0.13         0.15          0.0   \n",
       "\n",
       "   M12bw3_FPKM  \n",
       "0          0.0  \n",
       "1          0.0  \n",
       "2          0.0  \n",
       "3          0.0  \n",
       "4          0.0  "
      ]
     },
     "execution_count": 129,
     "metadata": {},
     "output_type": "execute_result"
    }
   ],
   "source": [
    "trinity_m12_r.head()"
   ]
  },
  {
   "cell_type": "code",
   "execution_count": 130,
   "metadata": {
    "colab": {},
    "colab_type": "code",
    "id": "DlIVGusob24L"
   },
   "outputs": [],
   "source": [
    "rxl_data = rxl_raw[[\"RXLbw/RXL.fc\", \"RXLbw/RXL.raw.pval\"]].apply(lambda x: x.str.replace(\",\", \".\"))\n",
    "trinity_RXL_r = trinity_RXL_raw[[\"RXL1_FPKM\", \"RXL2_FPKM\", \"RXLbw1_FPKM\", \"RXLbw2_FPKM\"]].apply(lambda x: x.str.replace(\",\", \".\"))\n",
    "\n",
    "rxl_data = rxl_data[[\"RXLbw/RXL.fc\", \"RXLbw/RXL.raw.pval\"]].apply(lambda x: pd.to_numeric(x, downcast=\"float\"))\n",
    "trinity_RXL_r = trinity_RXL_r[[\"RXL1_FPKM\", \"RXL2_FPKM\", \"RXLbw1_FPKM\", \"RXLbw2_FPKM\"]].apply(lambda x: pd.to_numeric(x,  downcast=\"float\"))\n",
    "\n",
    "rxl_data = pd.concat([rxl_raw[\"Contig\"], rxl_data], axis=1)\n",
    "trinity_RXL_r = pd.concat([trinity_RXL_raw[\"Name\"], trinity_RXL_r], axis=1)"
   ]
  },
  {
   "cell_type": "code",
   "execution_count": 131,
   "metadata": {
    "colab": {
     "base_uri": "https://localhost:8080/",
     "height": 204
    },
    "colab_type": "code",
    "id": "ewwx8Agkb24O",
    "outputId": "ae090f83-2adc-4b35-bf39-1e6616843f4c"
   },
   "outputs": [
    {
     "data": {
      "text/html": [
       "<div>\n",
       "<style scoped>\n",
       "    .dataframe tbody tr th:only-of-type {\n",
       "        vertical-align: middle;\n",
       "    }\n",
       "\n",
       "    .dataframe tbody tr th {\n",
       "        vertical-align: top;\n",
       "    }\n",
       "\n",
       "    .dataframe thead th {\n",
       "        text-align: right;\n",
       "    }\n",
       "</style>\n",
       "<table border=\"1\" class=\"dataframe\">\n",
       "  <thead>\n",
       "    <tr style=\"text-align: right;\">\n",
       "      <th></th>\n",
       "      <th>Contig</th>\n",
       "      <th>RXLbw/RXL.fc</th>\n",
       "      <th>RXLbw/RXL.raw.pval</th>\n",
       "    </tr>\n",
       "  </thead>\n",
       "  <tbody>\n",
       "    <tr>\n",
       "      <th>0</th>\n",
       "      <td>c58_g1_i1</td>\n",
       "      <td>-1.440769</td>\n",
       "      <td>0.168326</td>\n",
       "    </tr>\n",
       "    <tr>\n",
       "      <th>1</th>\n",
       "      <td>c75_g1_i1</td>\n",
       "      <td>-1.121267</td>\n",
       "      <td>0.636671</td>\n",
       "    </tr>\n",
       "    <tr>\n",
       "      <th>2</th>\n",
       "      <td>c100_g1_i1</td>\n",
       "      <td>1.046020</td>\n",
       "      <td>0.725316</td>\n",
       "    </tr>\n",
       "    <tr>\n",
       "      <th>3</th>\n",
       "      <td>c105_g1_i1</td>\n",
       "      <td>1.143527</td>\n",
       "      <td>0.158562</td>\n",
       "    </tr>\n",
       "    <tr>\n",
       "      <th>4</th>\n",
       "      <td>c116_g1_i1</td>\n",
       "      <td>-1.088905</td>\n",
       "      <td>0.159125</td>\n",
       "    </tr>\n",
       "  </tbody>\n",
       "</table>\n",
       "</div>"
      ],
      "text/plain": [
       "       Contig  RXLbw/RXL.fc  RXLbw/RXL.raw.pval\n",
       "0   c58_g1_i1     -1.440769            0.168326\n",
       "1   c75_g1_i1     -1.121267            0.636671\n",
       "2  c100_g1_i1      1.046020            0.725316\n",
       "3  c105_g1_i1      1.143527            0.158562\n",
       "4  c116_g1_i1     -1.088905            0.159125"
      ]
     },
     "execution_count": 131,
     "metadata": {},
     "output_type": "execute_result"
    }
   ],
   "source": [
    "rxl_data.head()"
   ]
  },
  {
   "cell_type": "code",
   "execution_count": 132,
   "metadata": {
    "colab": {
     "base_uri": "https://localhost:8080/",
     "height": 204
    },
    "colab_type": "code",
    "id": "djshJ5jxb24W",
    "outputId": "384f5eb4-d327-4716-d5b5-d721087c7d38"
   },
   "outputs": [
    {
     "data": {
      "text/html": [
       "<div>\n",
       "<style scoped>\n",
       "    .dataframe tbody tr th:only-of-type {\n",
       "        vertical-align: middle;\n",
       "    }\n",
       "\n",
       "    .dataframe tbody tr th {\n",
       "        vertical-align: top;\n",
       "    }\n",
       "\n",
       "    .dataframe thead th {\n",
       "        text-align: right;\n",
       "    }\n",
       "</style>\n",
       "<table border=\"1\" class=\"dataframe\">\n",
       "  <thead>\n",
       "    <tr style=\"text-align: right;\">\n",
       "      <th></th>\n",
       "      <th>Name</th>\n",
       "      <th>RXL1_FPKM</th>\n",
       "      <th>RXL2_FPKM</th>\n",
       "      <th>RXLbw1_FPKM</th>\n",
       "      <th>RXLbw2_FPKM</th>\n",
       "    </tr>\n",
       "  </thead>\n",
       "  <tbody>\n",
       "    <tr>\n",
       "      <th>0</th>\n",
       "      <td>c95728_g1_i1</td>\n",
       "      <td>0.0</td>\n",
       "      <td>0.00</td>\n",
       "      <td>0.00</td>\n",
       "      <td>0.0</td>\n",
       "    </tr>\n",
       "    <tr>\n",
       "      <th>1</th>\n",
       "      <td>c280_g1_i1</td>\n",
       "      <td>0.0</td>\n",
       "      <td>0.00</td>\n",
       "      <td>0.00</td>\n",
       "      <td>0.0</td>\n",
       "    </tr>\n",
       "    <tr>\n",
       "      <th>2</th>\n",
       "      <td>c95935_g1_i1</td>\n",
       "      <td>0.0</td>\n",
       "      <td>0.00</td>\n",
       "      <td>0.00</td>\n",
       "      <td>0.0</td>\n",
       "    </tr>\n",
       "    <tr>\n",
       "      <th>3</th>\n",
       "      <td>c97393_g1_i1</td>\n",
       "      <td>0.0</td>\n",
       "      <td>0.94</td>\n",
       "      <td>0.00</td>\n",
       "      <td>0.0</td>\n",
       "    </tr>\n",
       "    <tr>\n",
       "      <th>4</th>\n",
       "      <td>c100156_g1_i1</td>\n",
       "      <td>0.0</td>\n",
       "      <td>0.00</td>\n",
       "      <td>0.36</td>\n",
       "      <td>0.0</td>\n",
       "    </tr>\n",
       "  </tbody>\n",
       "</table>\n",
       "</div>"
      ],
      "text/plain": [
       "            Name  RXL1_FPKM  RXL2_FPKM  RXLbw1_FPKM  RXLbw2_FPKM\n",
       "0   c95728_g1_i1        0.0       0.00         0.00          0.0\n",
       "1     c280_g1_i1        0.0       0.00         0.00          0.0\n",
       "2   c95935_g1_i1        0.0       0.00         0.00          0.0\n",
       "3   c97393_g1_i1        0.0       0.94         0.00          0.0\n",
       "4  c100156_g1_i1        0.0       0.00         0.36          0.0"
      ]
     },
     "execution_count": 132,
     "metadata": {},
     "output_type": "execute_result"
    }
   ],
   "source": [
    "trinity_RXL_r.head()"
   ]
  },
  {
   "cell_type": "code",
   "execution_count": 133,
   "metadata": {
    "colab": {},
    "colab_type": "code",
    "id": "7yYB8KoRb24g"
   },
   "outputs": [],
   "source": [
    "#get contgis name with p<0.05 and >2 or <-2 from trinity data_ser"
   ]
  },
  {
   "cell_type": "code",
   "execution_count": 134,
   "metadata": {
    "colab": {},
    "colab_type": "code",
    "id": "Ebohs1B7b24o"
   },
   "outputs": [],
   "source": [
    "x = 0.01 #selection assumptions\n",
    "y = 2\n",
    "z = -2"
   ]
  },
  {
   "cell_type": "code",
   "execution_count": 135,
   "metadata": {
    "colab": {},
    "colab_type": "code",
    "id": "cpyT1Rp3b24u"
   },
   "outputs": [],
   "source": [
    "ds2_data_selected = ds2_data[(ds2_data[\"DS2bw/DS2.raw.pval\"] < x) & ((ds2_data[\"DS2bw/DS2.fc\"] > y) | (ds2_data[\"DS2bw/DS2.fc\"] < z))]\n",
    "m12_data_selected = m12_data[(m12_data[\"M12bw/M12wn.raw.pval\"] < x) & ((m12_data[\"M12bw/M12wn.fc\"] > y) | (m12_data[\"M12bw/M12wn.fc\"] < z))]\n",
    "rxl_data_selected = rxl_data[(rxl_data[\"RXLbw/RXL.raw.pval\"] < x) & ((rxl_data[\"RXLbw/RXL.fc\"] > y) | (rxl_data[\"RXLbw/RXL.fc\"] < z))]"
   ]
  },
  {
   "cell_type": "code",
   "execution_count": 136,
   "metadata": {
    "colab": {
     "base_uri": "https://localhost:8080/",
     "height": 204
    },
    "colab_type": "code",
    "id": "Gg0xbNc7b240",
    "outputId": "c5beec2a-ae61-434e-bb5d-7f5897d2a11e"
   },
   "outputs": [
    {
     "data": {
      "text/html": [
       "<div>\n",
       "<style scoped>\n",
       "    .dataframe tbody tr th:only-of-type {\n",
       "        vertical-align: middle;\n",
       "    }\n",
       "\n",
       "    .dataframe tbody tr th {\n",
       "        vertical-align: top;\n",
       "    }\n",
       "\n",
       "    .dataframe thead th {\n",
       "        text-align: right;\n",
       "    }\n",
       "</style>\n",
       "<table border=\"1\" class=\"dataframe\">\n",
       "  <thead>\n",
       "    <tr style=\"text-align: right;\">\n",
       "      <th></th>\n",
       "      <th>Contig</th>\n",
       "      <th>DS2bw/DS2.fc</th>\n",
       "      <th>DS2bw/DS2.raw.pval</th>\n",
       "    </tr>\n",
       "  </thead>\n",
       "  <tbody>\n",
       "    <tr>\n",
       "      <th>3151</th>\n",
       "      <td>c25322_g1_i1</td>\n",
       "      <td>-2.252130</td>\n",
       "      <td>0.002141</td>\n",
       "    </tr>\n",
       "    <tr>\n",
       "      <th>3903</th>\n",
       "      <td>c30179_g1_i1</td>\n",
       "      <td>-2.510241</td>\n",
       "      <td>0.004303</td>\n",
       "    </tr>\n",
       "    <tr>\n",
       "      <th>5865</th>\n",
       "      <td>c40515_g1_i1</td>\n",
       "      <td>6.007777</td>\n",
       "      <td>0.003248</td>\n",
       "    </tr>\n",
       "    <tr>\n",
       "      <th>11650</th>\n",
       "      <td>c56910_g1_i1</td>\n",
       "      <td>2.505986</td>\n",
       "      <td>0.005064</td>\n",
       "    </tr>\n",
       "    <tr>\n",
       "      <th>28077</th>\n",
       "      <td>c73719_g1_i2</td>\n",
       "      <td>3.545663</td>\n",
       "      <td>0.008579</td>\n",
       "    </tr>\n",
       "  </tbody>\n",
       "</table>\n",
       "</div>"
      ],
      "text/plain": [
       "             Contig  DS2bw/DS2.fc  DS2bw/DS2.raw.pval\n",
       "3151   c25322_g1_i1     -2.252130            0.002141\n",
       "3903   c30179_g1_i1     -2.510241            0.004303\n",
       "5865   c40515_g1_i1      6.007777            0.003248\n",
       "11650  c56910_g1_i1      2.505986            0.005064\n",
       "28077  c73719_g1_i2      3.545663            0.008579"
      ]
     },
     "execution_count": 136,
     "metadata": {},
     "output_type": "execute_result"
    }
   ],
   "source": [
    "ds2_data_selected.head()"
   ]
  },
  {
   "cell_type": "code",
   "execution_count": 137,
   "metadata": {
    "colab": {
     "base_uri": "https://localhost:8080/",
     "height": 204
    },
    "colab_type": "code",
    "id": "8ZSbxTZvb25A",
    "outputId": "185a346c-7352-49c9-df20-4792adeda8e9"
   },
   "outputs": [
    {
     "data": {
      "text/html": [
       "<div>\n",
       "<style scoped>\n",
       "    .dataframe tbody tr th:only-of-type {\n",
       "        vertical-align: middle;\n",
       "    }\n",
       "\n",
       "    .dataframe tbody tr th {\n",
       "        vertical-align: top;\n",
       "    }\n",
       "\n",
       "    .dataframe thead th {\n",
       "        text-align: right;\n",
       "    }\n",
       "</style>\n",
       "<table border=\"1\" class=\"dataframe\">\n",
       "  <thead>\n",
       "    <tr style=\"text-align: right;\">\n",
       "      <th></th>\n",
       "      <th>Contig</th>\n",
       "      <th>M12bw/M12wn.fc</th>\n",
       "      <th>M12bw/M12wn.raw.pval</th>\n",
       "    </tr>\n",
       "  </thead>\n",
       "  <tbody>\n",
       "    <tr>\n",
       "      <th>913</th>\n",
       "      <td>c8449_g1_i1</td>\n",
       "      <td>-5.168671</td>\n",
       "      <td>0.007198</td>\n",
       "    </tr>\n",
       "    <tr>\n",
       "      <th>2984</th>\n",
       "      <td>c26664_g1_i1</td>\n",
       "      <td>2.291103</td>\n",
       "      <td>0.003772</td>\n",
       "    </tr>\n",
       "    <tr>\n",
       "      <th>2997</th>\n",
       "      <td>c26737_g1_i1</td>\n",
       "      <td>-2.601362</td>\n",
       "      <td>0.001181</td>\n",
       "    </tr>\n",
       "    <tr>\n",
       "      <th>3068</th>\n",
       "      <td>c27015_g1_i1</td>\n",
       "      <td>-2.104015</td>\n",
       "      <td>0.001917</td>\n",
       "    </tr>\n",
       "    <tr>\n",
       "      <th>3069</th>\n",
       "      <td>c27015_g2_i1</td>\n",
       "      <td>-2.346475</td>\n",
       "      <td>0.001967</td>\n",
       "    </tr>\n",
       "  </tbody>\n",
       "</table>\n",
       "</div>"
      ],
      "text/plain": [
       "            Contig  M12bw/M12wn.fc  M12bw/M12wn.raw.pval\n",
       "913    c8449_g1_i1       -5.168671              0.007198\n",
       "2984  c26664_g1_i1        2.291103              0.003772\n",
       "2997  c26737_g1_i1       -2.601362              0.001181\n",
       "3068  c27015_g1_i1       -2.104015              0.001917\n",
       "3069  c27015_g2_i1       -2.346475              0.001967"
      ]
     },
     "execution_count": 137,
     "metadata": {},
     "output_type": "execute_result"
    }
   ],
   "source": [
    "m12_data_selected.head()"
   ]
  },
  {
   "cell_type": "code",
   "execution_count": 138,
   "metadata": {
    "colab": {
     "base_uri": "https://localhost:8080/",
     "height": 204
    },
    "colab_type": "code",
    "id": "3zq7t4fAb25F",
    "outputId": "7c14da0d-c84a-432a-c73d-9ee5d83888d5"
   },
   "outputs": [
    {
     "data": {
      "text/html": [
       "<div>\n",
       "<style scoped>\n",
       "    .dataframe tbody tr th:only-of-type {\n",
       "        vertical-align: middle;\n",
       "    }\n",
       "\n",
       "    .dataframe tbody tr th {\n",
       "        vertical-align: top;\n",
       "    }\n",
       "\n",
       "    .dataframe thead th {\n",
       "        text-align: right;\n",
       "    }\n",
       "</style>\n",
       "<table border=\"1\" class=\"dataframe\">\n",
       "  <thead>\n",
       "    <tr style=\"text-align: right;\">\n",
       "      <th></th>\n",
       "      <th>Contig</th>\n",
       "      <th>RXLbw/RXL.fc</th>\n",
       "      <th>RXLbw/RXL.raw.pval</th>\n",
       "    </tr>\n",
       "  </thead>\n",
       "  <tbody>\n",
       "    <tr>\n",
       "      <th>1479</th>\n",
       "      <td>c11125_g1_i2</td>\n",
       "      <td>5.021523</td>\n",
       "      <td>0.004370</td>\n",
       "    </tr>\n",
       "    <tr>\n",
       "      <th>2483</th>\n",
       "      <td>c19698_g1_i1</td>\n",
       "      <td>3.529909</td>\n",
       "      <td>0.002684</td>\n",
       "    </tr>\n",
       "    <tr>\n",
       "      <th>4793</th>\n",
       "      <td>c36932_g2_i1</td>\n",
       "      <td>-4.361333</td>\n",
       "      <td>0.005214</td>\n",
       "    </tr>\n",
       "    <tr>\n",
       "      <th>5062</th>\n",
       "      <td>c37911_g1_i1</td>\n",
       "      <td>-6.358142</td>\n",
       "      <td>0.002124</td>\n",
       "    </tr>\n",
       "    <tr>\n",
       "      <th>5224</th>\n",
       "      <td>c38443_g1_i2</td>\n",
       "      <td>-3.203660</td>\n",
       "      <td>0.006778</td>\n",
       "    </tr>\n",
       "  </tbody>\n",
       "</table>\n",
       "</div>"
      ],
      "text/plain": [
       "            Contig  RXLbw/RXL.fc  RXLbw/RXL.raw.pval\n",
       "1479  c11125_g1_i2      5.021523            0.004370\n",
       "2483  c19698_g1_i1      3.529909            0.002684\n",
       "4793  c36932_g2_i1     -4.361333            0.005214\n",
       "5062  c37911_g1_i1     -6.358142            0.002124\n",
       "5224  c38443_g1_i2     -3.203660            0.006778"
      ]
     },
     "execution_count": 138,
     "metadata": {},
     "output_type": "execute_result"
    }
   ],
   "source": [
    "rxl_data_selected.head()"
   ]
  },
  {
   "cell_type": "code",
   "execution_count": 139,
   "metadata": {
    "colab": {
     "base_uri": "https://localhost:8080/",
     "height": 510
    },
    "colab_type": "code",
    "id": "PEgtB0Mxb25I",
    "outputId": "e8b6c8a3-e182-4fbf-8454-7f0763b3c545"
   },
   "outputs": [
    {
     "name": "stdout",
     "output_type": "stream",
     "text": [
      "ds2_data\n",
      "<class 'pandas.core.frame.DataFrame'>\n",
      "Int64Index: 33 entries, 3151 to 85582\n",
      "Data columns (total 3 columns):\n",
      "Contig                33 non-null object\n",
      "DS2bw/DS2.fc          33 non-null float32\n",
      "DS2bw/DS2.raw.pval    33 non-null float32\n",
      "dtypes: float32(2), object(1)\n",
      "memory usage: 792.0+ bytes\n",
      "--------------------------------------------------\n",
      "m12_data\n",
      "<class 'pandas.core.frame.DataFrame'>\n",
      "Int64Index: 268 entries, 913 to 79082\n",
      "Data columns (total 3 columns):\n",
      "Contig                  268 non-null object\n",
      "M12bw/M12wn.fc          268 non-null float32\n",
      "M12bw/M12wn.raw.pval    268 non-null float32\n",
      "dtypes: float32(2), object(1)\n",
      "memory usage: 6.3+ KB\n",
      "--------------------------------------------------\n",
      "rxl_data\n",
      "<class 'pandas.core.frame.DataFrame'>\n",
      "Int64Index: 31 entries, 1479 to 75723\n",
      "Data columns (total 3 columns):\n",
      "Contig                31 non-null object\n",
      "RXLbw/RXL.fc          31 non-null float32\n",
      "RXLbw/RXL.raw.pval    31 non-null float32\n",
      "dtypes: float32(2), object(1)\n",
      "memory usage: 744.0+ bytes\n"
     ]
    }
   ],
   "source": [
    "print(\"ds2_data\")\n",
    "ds2_data_selected.info()\n",
    "print(\"-\"*50)\n",
    "print(\"m12_data\")\n",
    "m12_data_selected.info()\n",
    "print(\"-\"*50)\n",
    "print(\"rxl_data\")\n",
    "rxl_data_selected.info()"
   ]
  },
  {
   "cell_type": "code",
   "execution_count": 140,
   "metadata": {
    "colab": {},
    "colab_type": "code",
    "id": "GWDAtl27b25M",
    "scrolled": true
   },
   "outputs": [],
   "source": [
    "trinity_DS2 = trinity_DS2_r.set_index(\"Name\", drop=True) #column 'Name' as index\n",
    "trinity_m12 = trinity_m12_r.set_index(\"Name\", drop=True)\n",
    "trinity_RXL = trinity_RXL_r.set_index(\"Name\", drop=True)"
   ]
  },
  {
   "cell_type": "code",
   "execution_count": 141,
   "metadata": {
    "colab": {
     "base_uri": "https://localhost:8080/",
     "height": 235
    },
    "colab_type": "code",
    "id": "pe9Nnxnhb25P",
    "outputId": "76133042-5b11-47cb-88ad-0f930c81c9ec"
   },
   "outputs": [
    {
     "data": {
      "text/html": [
       "<div>\n",
       "<style scoped>\n",
       "    .dataframe tbody tr th:only-of-type {\n",
       "        vertical-align: middle;\n",
       "    }\n",
       "\n",
       "    .dataframe tbody tr th {\n",
       "        vertical-align: top;\n",
       "    }\n",
       "\n",
       "    .dataframe thead th {\n",
       "        text-align: right;\n",
       "    }\n",
       "</style>\n",
       "<table border=\"1\" class=\"dataframe\">\n",
       "  <thead>\n",
       "    <tr style=\"text-align: right;\">\n",
       "      <th></th>\n",
       "      <th>DS2_1_FPKM</th>\n",
       "      <th>DS2_2_FPKM</th>\n",
       "      <th>DS2bw1_FPKM</th>\n",
       "      <th>DS2bw2_FPKM</th>\n",
       "      <th>DS2bw3_FPKM</th>\n",
       "    </tr>\n",
       "    <tr>\n",
       "      <th>Name</th>\n",
       "      <th></th>\n",
       "      <th></th>\n",
       "      <th></th>\n",
       "      <th></th>\n",
       "      <th></th>\n",
       "    </tr>\n",
       "  </thead>\n",
       "  <tbody>\n",
       "    <tr>\n",
       "      <th>c95728_g1_i1</th>\n",
       "      <td>0.0</td>\n",
       "      <td>0.00</td>\n",
       "      <td>0.0</td>\n",
       "      <td>0.0</td>\n",
       "      <td>0.00</td>\n",
       "    </tr>\n",
       "    <tr>\n",
       "      <th>c280_g1_i1</th>\n",
       "      <td>0.0</td>\n",
       "      <td>0.44</td>\n",
       "      <td>0.0</td>\n",
       "      <td>0.0</td>\n",
       "      <td>0.00</td>\n",
       "    </tr>\n",
       "    <tr>\n",
       "      <th>c95935_g1_i1</th>\n",
       "      <td>0.0</td>\n",
       "      <td>0.00</td>\n",
       "      <td>0.0</td>\n",
       "      <td>0.0</td>\n",
       "      <td>1.12</td>\n",
       "    </tr>\n",
       "    <tr>\n",
       "      <th>c97393_g1_i1</th>\n",
       "      <td>0.0</td>\n",
       "      <td>0.00</td>\n",
       "      <td>0.0</td>\n",
       "      <td>0.0</td>\n",
       "      <td>0.00</td>\n",
       "    </tr>\n",
       "    <tr>\n",
       "      <th>c100156_g1_i1</th>\n",
       "      <td>0.0</td>\n",
       "      <td>0.00</td>\n",
       "      <td>0.0</td>\n",
       "      <td>0.0</td>\n",
       "      <td>0.24</td>\n",
       "    </tr>\n",
       "  </tbody>\n",
       "</table>\n",
       "</div>"
      ],
      "text/plain": [
       "               DS2_1_FPKM  DS2_2_FPKM  DS2bw1_FPKM  DS2bw2_FPKM  DS2bw3_FPKM\n",
       "Name                                                                        \n",
       "c95728_g1_i1          0.0        0.00          0.0          0.0         0.00\n",
       "c280_g1_i1            0.0        0.44          0.0          0.0         0.00\n",
       "c95935_g1_i1          0.0        0.00          0.0          0.0         1.12\n",
       "c97393_g1_i1          0.0        0.00          0.0          0.0         0.00\n",
       "c100156_g1_i1         0.0        0.00          0.0          0.0         0.24"
      ]
     },
     "execution_count": 141,
     "metadata": {},
     "output_type": "execute_result"
    }
   ],
   "source": [
    "trinity_DS2.head()"
   ]
  },
  {
   "cell_type": "code",
   "execution_count": 142,
   "metadata": {
    "colab": {
     "base_uri": "https://localhost:8080/",
     "height": 235
    },
    "colab_type": "code",
    "id": "ADIFYclEb25S",
    "outputId": "1434a26d-6a7c-41b2-f0cd-7fdf083ff4a4"
   },
   "outputs": [
    {
     "data": {
      "text/html": [
       "<div>\n",
       "<style scoped>\n",
       "    .dataframe tbody tr th:only-of-type {\n",
       "        vertical-align: middle;\n",
       "    }\n",
       "\n",
       "    .dataframe tbody tr th {\n",
       "        vertical-align: top;\n",
       "    }\n",
       "\n",
       "    .dataframe thead th {\n",
       "        text-align: right;\n",
       "    }\n",
       "</style>\n",
       "<table border=\"1\" class=\"dataframe\">\n",
       "  <thead>\n",
       "    <tr style=\"text-align: right;\">\n",
       "      <th></th>\n",
       "      <th>M12wn2_FPKM</th>\n",
       "      <th>M12wn3_FPKM</th>\n",
       "      <th>M12bw1_FPKM</th>\n",
       "      <th>M12bw2_FPKM</th>\n",
       "      <th>M12bw3_FPKM</th>\n",
       "    </tr>\n",
       "    <tr>\n",
       "      <th>Name</th>\n",
       "      <th></th>\n",
       "      <th></th>\n",
       "      <th></th>\n",
       "      <th></th>\n",
       "      <th></th>\n",
       "    </tr>\n",
       "  </thead>\n",
       "  <tbody>\n",
       "    <tr>\n",
       "      <th>c95728_g1_i1</th>\n",
       "      <td>0.00</td>\n",
       "      <td>0.18</td>\n",
       "      <td>0.21</td>\n",
       "      <td>0.0</td>\n",
       "      <td>0.0</td>\n",
       "    </tr>\n",
       "    <tr>\n",
       "      <th>c280_g1_i1</th>\n",
       "      <td>0.00</td>\n",
       "      <td>0.00</td>\n",
       "      <td>0.00</td>\n",
       "      <td>0.0</td>\n",
       "      <td>0.0</td>\n",
       "    </tr>\n",
       "    <tr>\n",
       "      <th>c95935_g1_i1</th>\n",
       "      <td>0.00</td>\n",
       "      <td>0.00</td>\n",
       "      <td>0.00</td>\n",
       "      <td>0.0</td>\n",
       "      <td>0.0</td>\n",
       "    </tr>\n",
       "    <tr>\n",
       "      <th>c97393_g1_i1</th>\n",
       "      <td>0.75</td>\n",
       "      <td>0.00</td>\n",
       "      <td>0.00</td>\n",
       "      <td>0.0</td>\n",
       "      <td>0.0</td>\n",
       "    </tr>\n",
       "    <tr>\n",
       "      <th>c100156_g1_i1</th>\n",
       "      <td>0.00</td>\n",
       "      <td>0.13</td>\n",
       "      <td>0.15</td>\n",
       "      <td>0.0</td>\n",
       "      <td>0.0</td>\n",
       "    </tr>\n",
       "  </tbody>\n",
       "</table>\n",
       "</div>"
      ],
      "text/plain": [
       "               M12wn2_FPKM  M12wn3_FPKM  M12bw1_FPKM  M12bw2_FPKM  M12bw3_FPKM\n",
       "Name                                                                          \n",
       "c95728_g1_i1          0.00         0.18         0.21          0.0          0.0\n",
       "c280_g1_i1            0.00         0.00         0.00          0.0          0.0\n",
       "c95935_g1_i1          0.00         0.00         0.00          0.0          0.0\n",
       "c97393_g1_i1          0.75         0.00         0.00          0.0          0.0\n",
       "c100156_g1_i1         0.00         0.13         0.15          0.0          0.0"
      ]
     },
     "execution_count": 142,
     "metadata": {},
     "output_type": "execute_result"
    }
   ],
   "source": [
    "trinity_m12.head()"
   ]
  },
  {
   "cell_type": "code",
   "execution_count": 143,
   "metadata": {
    "colab": {
     "base_uri": "https://localhost:8080/",
     "height": 235
    },
    "colab_type": "code",
    "id": "bBDCXBeGb25W",
    "outputId": "699ff199-e57f-46bb-9dce-1888867f7a2c"
   },
   "outputs": [
    {
     "data": {
      "text/html": [
       "<div>\n",
       "<style scoped>\n",
       "    .dataframe tbody tr th:only-of-type {\n",
       "        vertical-align: middle;\n",
       "    }\n",
       "\n",
       "    .dataframe tbody tr th {\n",
       "        vertical-align: top;\n",
       "    }\n",
       "\n",
       "    .dataframe thead th {\n",
       "        text-align: right;\n",
       "    }\n",
       "</style>\n",
       "<table border=\"1\" class=\"dataframe\">\n",
       "  <thead>\n",
       "    <tr style=\"text-align: right;\">\n",
       "      <th></th>\n",
       "      <th>RXL1_FPKM</th>\n",
       "      <th>RXL2_FPKM</th>\n",
       "      <th>RXLbw1_FPKM</th>\n",
       "      <th>RXLbw2_FPKM</th>\n",
       "    </tr>\n",
       "    <tr>\n",
       "      <th>Name</th>\n",
       "      <th></th>\n",
       "      <th></th>\n",
       "      <th></th>\n",
       "      <th></th>\n",
       "    </tr>\n",
       "  </thead>\n",
       "  <tbody>\n",
       "    <tr>\n",
       "      <th>c95728_g1_i1</th>\n",
       "      <td>0.0</td>\n",
       "      <td>0.00</td>\n",
       "      <td>0.00</td>\n",
       "      <td>0.0</td>\n",
       "    </tr>\n",
       "    <tr>\n",
       "      <th>c280_g1_i1</th>\n",
       "      <td>0.0</td>\n",
       "      <td>0.00</td>\n",
       "      <td>0.00</td>\n",
       "      <td>0.0</td>\n",
       "    </tr>\n",
       "    <tr>\n",
       "      <th>c95935_g1_i1</th>\n",
       "      <td>0.0</td>\n",
       "      <td>0.00</td>\n",
       "      <td>0.00</td>\n",
       "      <td>0.0</td>\n",
       "    </tr>\n",
       "    <tr>\n",
       "      <th>c97393_g1_i1</th>\n",
       "      <td>0.0</td>\n",
       "      <td>0.94</td>\n",
       "      <td>0.00</td>\n",
       "      <td>0.0</td>\n",
       "    </tr>\n",
       "    <tr>\n",
       "      <th>c100156_g1_i1</th>\n",
       "      <td>0.0</td>\n",
       "      <td>0.00</td>\n",
       "      <td>0.36</td>\n",
       "      <td>0.0</td>\n",
       "    </tr>\n",
       "  </tbody>\n",
       "</table>\n",
       "</div>"
      ],
      "text/plain": [
       "               RXL1_FPKM  RXL2_FPKM  RXLbw1_FPKM  RXLbw2_FPKM\n",
       "Name                                                         \n",
       "c95728_g1_i1         0.0       0.00         0.00          0.0\n",
       "c280_g1_i1           0.0       0.00         0.00          0.0\n",
       "c95935_g1_i1         0.0       0.00         0.00          0.0\n",
       "c97393_g1_i1         0.0       0.94         0.00          0.0\n",
       "c100156_g1_i1        0.0       0.00         0.36          0.0"
      ]
     },
     "execution_count": 143,
     "metadata": {},
     "output_type": "execute_result"
    }
   ],
   "source": [
    "trinity_RXL.head()"
   ]
  },
  {
   "cell_type": "code",
   "execution_count": 144,
   "metadata": {
    "colab": {},
    "colab_type": "code",
    "id": "BOJdLMHob25Z"
   },
   "outputs": [],
   "source": [
    "ds2_data_selected_ready = ds2_data_selected.set_index(\"Contig\", drop=True) #'Contig' as index\n",
    "m12_data_selected_ready = m12_data_selected.set_index(\"Contig\", drop=True)\n",
    "rxl_data_selected_ready = rxl_data_selected.set_index(\"Contig\", drop=True)"
   ]
  },
  {
   "cell_type": "code",
   "execution_count": 145,
   "metadata": {
    "colab": {},
    "colab_type": "code",
    "id": "qGtobA_sb25c"
   },
   "outputs": [],
   "source": [
    "selected_contigs_ds = list(ds2_data_selected_ready.index) #get index name from data after selection\n",
    "selected_contigs_m = list(m12_data_selected_ready.index)\n",
    "selected_contigs_rxl = list(rxl_data_selected_ready.index)\n",
    "\n",
    "sum_selected_contigs = list(set(selected_contigs_ds + selected_contigs_m + selected_contigs_rxl))"
   ]
  },
  {
   "cell_type": "code",
   "execution_count": 146,
   "metadata": {
    "colab": {},
    "colab_type": "code",
    "id": "myHCCeOlb25g"
   },
   "outputs": [],
   "source": [
    "trinity_DS2_selcted = trinity_DS2.loc[selected_contigs_ds] #use selected index from ds2/m12/rxl on Trinity\n",
    "trinity_M12_selcted = trinity_m12.loc[selected_contigs_m] \n",
    "trinity_RXL_selcted = trinity_RXL.loc[selected_contigs_rxl]"
   ]
  },
  {
   "cell_type": "markdown",
   "metadata": {
    "colab_type": "text",
    "id": "QaPnKws3b25j"
   },
   "source": [
    "### Generate plot"
   ]
  },
  {
   "cell_type": "code",
   "execution_count": 147,
   "metadata": {
    "colab": {},
    "colab_type": "code",
    "id": "aUJeea-qb25l"
   },
   "outputs": [],
   "source": [
    "sns.set(rc={'figure.figsize':(20,12)}) "
   ]
  },
  {
   "cell_type": "code",
   "execution_count": 148,
   "metadata": {
    "colab": {
     "base_uri": "https://localhost:8080/",
     "height": 744
    },
    "colab_type": "code",
    "id": "4rTcOVzhb25q",
    "outputId": "59954e39-2fe6-4947-dd54-4e67d849b5bd"
   },
   "outputs": [
    {
     "data": {
      "text/plain": [
       "[Text(0, 0.5, 'expression level'), Text(0.5, 0, 'Line name')]"
      ]
     },
     "execution_count": 148,
     "metadata": {},
     "output_type": "execute_result"
    },
    {
     "data": {
      "image/png": "[encoded data removed]",
      "text/plain": [
       "<Figure size 1440x864 with 1 Axes>"
      ]
     },
     "metadata": {},
     "output_type": "display_data"
    }
   ],
   "source": [
    "#Trinity_DS2\n",
    "ax = sns.violinplot(data=trinity_DS2_selcted, inner=None, cut=0)\n",
    "ax = sns.swarmplot(data=trinity_DS2_selcted, color=\"white\", size=4)\n",
    "ax.set(ylim=(-10, 550))\n",
    "ax.set(xlabel='Line name', ylabel='expression level')"
   ]
  },
  {
   "cell_type": "code",
   "execution_count": 149,
   "metadata": {
    "colab": {},
    "colab_type": "code",
    "id": "oa9VZecNb250"
   },
   "outputs": [],
   "source": [
    "y = trinity_DS2_selcted.mean()\n",
    "data_DS2_mean = pd.DataFrame(data=y)\n",
    "\n",
    "z = trinity_DS2_selcted.median()\n",
    "data_DS2_med = pd.DataFrame(data=z)\n",
    "\n",
    "data = pd.concat([data_DS2_mean, data_DS2_med], axis=1)\n",
    "data.columns = [\"Mean\", \"Median\"]"
   ]
  },
  {
   "cell_type": "code",
   "execution_count": 150,
   "metadata": {
    "colab": {
     "base_uri": "https://localhost:8080/",
     "height": 710
    },
    "colab_type": "code",
    "id": "UUb06fdtb253",
    "outputId": "958baf8c-653d-4a3f-ce5c-2244dcfeb56b"
   },
   "outputs": [
    {
     "data": {
      "image/png": "[encoded data removed]",
      "text/plain": [
       "<Figure size 1440x864 with 1 Axes>"
      ]
     },
     "metadata": {},
     "output_type": "display_data"
    }
   ],
   "source": [
    "ax = sns.scatterplot(data=data, s=250)"
   ]
  },
  {
   "cell_type": "code",
   "execution_count": 151,
   "metadata": {
    "colab": {
     "base_uri": "https://localhost:8080/",
     "height": 764
    },
    "colab_type": "code",
    "id": "4qXf_xlHb256",
    "outputId": "fdf56444-022b-42b7-e40c-b9aefd48a39f"
   },
   "outputs": [
    {
     "data": {
      "text/plain": [
       "[Text(0, 0.5, 'expression level'), Text(0.5, 0, 'Line name')]"
      ]
     },
     "execution_count": 151,
     "metadata": {},
     "output_type": "execute_result"
    },
    {
     "data": {
      "image/png": "[encoded data removed]",
      "text/plain": [
       "<Figure size 1440x864 with 1 Axes>"
      ]
     },
     "metadata": {},
     "output_type": "display_data"
    }
   ],
   "source": [
    "# Trinity M12\n",
    "ax = sns.violinplot(data = trinity_M12_selcted, cut=0, inner=None)\n",
    "ax.set(ylim=(-10, 450))\n",
    "ax = sns.swarmplot(data=trinity_M12_selcted, color=\"white\", size=3)\n",
    "ax.set(xlabel='Line name', ylabel='expression level')"
   ]
  },
  {
   "cell_type": "code",
   "execution_count": 152,
   "metadata": {
    "colab": {
     "base_uri": "https://localhost:8080/",
     "height": 730
    },
    "colab_type": "code",
    "id": "0DyRX3PYb258",
    "outputId": "1fc08ec9-95f8-4215-8769-8331b86b00aa"
   },
   "outputs": [
    {
     "data": {
      "image/png": "[encoded data removed]",
      "text/plain": [
       "<Figure size 1440x864 with 1 Axes>"
      ]
     },
     "metadata": {},
     "output_type": "display_data"
    }
   ],
   "source": [
    "y = trinity_M12_selcted.mean()\n",
    "data_DS2_mean = pd.DataFrame(data=y)\n",
    "\n",
    "z = trinity_M12_selcted.median()\n",
    "data_DS2_med = pd.DataFrame(data=z)\n",
    "\n",
    "data = pd.concat([data_DS2_mean, data_DS2_med], axis=1, sort=None)\n",
    "data.columns = [\"Mean\", \"Median\"]\n",
    "ax = sns.scatterplot(data=data, s=250)"
   ]
  },
  {
   "cell_type": "code",
   "execution_count": 153,
   "metadata": {
    "colab": {
     "base_uri": "https://localhost:8080/",
     "height": 764
    },
    "colab_type": "code",
    "id": "rHNX_Smqb25_",
    "outputId": "95d36624-4475-4af8-cb62-91eda5c03aaf"
   },
   "outputs": [
    {
     "data": {
      "text/plain": [
       "[Text(0, 0.5, 'expression level'), Text(0.5, 0, 'Line name')]"
      ]
     },
     "execution_count": 153,
     "metadata": {},
     "output_type": "execute_result"
    },
    {
     "data": {
      "image/png": "[encoded data removed]",
      "text/plain": [
       "<Figure size 1440x864 with 1 Axes>"
      ]
     },
     "metadata": {},
     "output_type": "display_data"
    }
   ],
   "source": [
    "# Trinity RXL\n",
    "ax = sns.violinplot(data = trinity_RXL_selcted, cut=0, inner=\"point\")\n",
    "ax = sns.swarmplot(data=trinity_RXL_selcted, color=\"white\", size=3)\n",
    "\n",
    "ax.set(xlabel='Line name', ylabel='expression level')"
   ]
  },
  {
   "cell_type": "code",
   "execution_count": 154,
   "metadata": {
    "colab": {
     "base_uri": "https://localhost:8080/",
     "height": 730
    },
    "colab_type": "code",
    "id": "i86QUjS1b26C",
    "outputId": "205b5b73-9c39-42f0-bdd9-339dcb48b3e2",
    "scrolled": true
   },
   "outputs": [
    {
     "data": {
      "image/png": "[encoded data removed]",
      "text/plain": [
       "<Figure size 1440x864 with 1 Axes>"
      ]
     },
     "metadata": {},
     "output_type": "display_data"
    }
   ],
   "source": [
    "y = trinity_RXL_selcted.mean()\n",
    "data_DS2_mean = pd.DataFrame(data=y)\n",
    "\n",
    "z = trinity_RXL_selcted.median()\n",
    "data_DS2_med = pd.DataFrame(data=z)\n",
    "\n",
    "data = pd.concat([data_DS2_mean, data_DS2_med], axis=1, sort=None)\n",
    "data.columns = [\"Mean\", \"Median\"]\n",
    "ax = sns.scatterplot(data=data, s=250)"
   ]
  },
  {
   "cell_type": "code",
   "execution_count": 155,
   "metadata": {
    "colab": {},
    "colab_type": "code",
    "id": "ZDJudwHlb26F"
   },
   "outputs": [],
   "source": [
    "#trinity_DS2_selcted.to_csv(\"trinity_DS2_selcted.csv\", sep=',')\n",
    "#trinity_DS2_selcted.head()"
   ]
  },
  {
   "cell_type": "code",
   "execution_count": 156,
   "metadata": {
    "colab": {},
    "colab_type": "code",
    "id": "A1SQD4ZUb26H"
   },
   "outputs": [],
   "source": [
    "#trinity_M12_selcted.to_csv(\"wstępne_opracowanie/trinity_M12_selcted.csv\", sep=',')\n",
    "#trinity_M12_selcted.head()"
   ]
  },
  {
   "cell_type": "code",
   "execution_count": 157,
   "metadata": {
    "colab": {},
    "colab_type": "code",
    "id": "Fg1lOd9Zb26O"
   },
   "outputs": [],
   "source": [
    "#trinity_RXL_selcted.to_csv(\"wstępne_opracowanie/trinity_RXL_selcted.csv\", sep=',')\n",
    "#trinity_RXL_selcted.head()"
   ]
  },
  {
   "cell_type": "markdown",
   "metadata": {
    "colab_type": "text",
    "id": "E__kc1Gqb26U"
   },
   "source": [
    "### Data searching in NCBI database by contigs name from FASTA files"
   ]
  },
  {
   "cell_type": "code",
   "execution_count": 43,
   "metadata": {
    "colab": {},
    "colab_type": "code",
    "id": "KIcg2Uwxb26V"
   },
   "outputs": [],
   "source": [
    "from Bio import SeqIO\n",
    "from Bio.Blast import NCBIWWW\n",
    "from Bio.Blast import NCBIXML"
   ]
  },
  {
   "cell_type": "markdown",
   "metadata": {
    "colab_type": "text",
    "id": "yOI_f5i2b26a"
   },
   "source": [
    "### Data pre-process"
   ]
  },
  {
   "cell_type": "code",
   "execution_count": 44,
   "metadata": {
    "colab": {},
    "colab_type": "code",
    "id": "jfeDCdFMb26b"
   },
   "outputs": [],
   "source": [
    "#progressbar\n",
    "from IPython.display import display, clear_output\n",
    "import time"
   ]
  },
  {
   "cell_type": "code",
   "execution_count": 46,
   "metadata": {
    "colab": {},
    "colab_type": "code",
    "id": "SyJ_1iqDb26n"
   },
   "outputs": [],
   "source": [
    "#replacment tab to \\n \n",
    "with open(\"Trinity.fasta\", \"r\") as handle:\n",
    "    data = handle.read()\n",
    "\n",
    "data_out = data.replace(\"\t\", \"\\n\")\n",
    "\n",
    "with open(\"Trinity_ready.fasta\", \"w\") as out:\n",
    "    out.write(data_out)"
   ]
  },
  {
   "cell_type": "markdown",
   "metadata": {
    "colab_type": "text",
    "id": "HYWGttjPb26q"
   },
   "source": [
    "### NCBI`s Api and Parser tests"
   ]
  },
  {
   "cell_type": "code",
   "execution_count": 47,
   "metadata": {
    "colab": {},
    "colab_type": "code",
    "id": "RrFiX0wfb26t"
   },
   "outputs": [],
   "source": [
    "def contig_finder(sel_contigs):\n",
    "    id_list = []\n",
    "    seq_list = []\n",
    "    with open(\"Trinity_ready.fasta\", \"r\") as handle:\n",
    "        for record in SeqIO.parse(handle, \"fasta\"):\n",
    "        \n",
    "            if record.id in sel_contigs:\n",
    "                id_list.append(record.id)\n",
    "                seq_list.append(record.seq)\n",
    "\n",
    "    query_dict = dict(zip(id_list, seq_list))\n",
    "    return query_dict, id_list"
   ]
  },
  {
   "cell_type": "code",
   "execution_count": 49,
   "metadata": {
    "colab": {},
    "colab_type": "code",
    "id": "LP7xR_FLb26y"
   },
   "outputs": [],
   "source": [
    "querry_dict, id_list = contig_finder(trinity_M12_selcted.index)"
   ]
  },
  {
   "cell_type": "code",
   "execution_count": 50,
   "metadata": {
    "colab": {
     "base_uri": "https://localhost:8080/",
     "height": 85
    },
    "colab_type": "code",
    "id": "M-WNdR6eb261",
    "outputId": "151f806a-b5e4-4ceb-f2c2-aa240a27633d",
    "scrolled": true
   },
   "outputs": [
    {
     "name": "stdout",
     "output_type": "stream",
     "text": [
      "Sequence no. 268/268 id: c136205_g1_i1\n"
     ]
    },
    {
     "data": {
      "text/plain": [
       "None"
      ]
     },
     "metadata": {},
     "output_type": "display_data"
    },
    {
     "data": {
      "text/plain": [
       "'Estimated duration 0.0m'"
      ]
     },
     "metadata": {},
     "output_type": "display_data"
    },
    {
     "data": {
      "text/plain": [
       "'Progress: 100.0%'"
      ]
     },
     "metadata": {},
     "output_type": "display_data"
    }
   ],
   "source": [
    "file = open(\"Contigs.xml\", 'w')\n",
    "tim = []\n",
    "start = 0\n",
    "end = 0\n",
    "\n",
    "for counter, contig_data in enumerate(id_list): #Api and parser test\n",
    "    start = time.time()\n",
    "    \n",
    "    querry = str(querry_dict.get(contig_data))\n",
    "\n",
    "    result_handle = NCBIWWW.qblast(program=\"blastn\", database=\"nt\",\n",
    "                                   sequence=querry, format_type=\"XML\", \n",
    "                                   hitlist_size=10) # megablast=True        \n",
    "    clear_output()\n",
    "    display(print(\"Sequence no. {}/{} id: {}\".format((counter), \n",
    "                                                     len(id_list), contig_data)))\n",
    "    \n",
    "    if len(tim) < 1:\n",
    "        display(print(\"estimation of duration in progress\"))\n",
    "    \n",
    "    else:\n",
    "        mean_time = sum(tim)/len(tim)\n",
    "        querry_time = (mean_time * (len(id_list) - (counter))) / 60 #min    \n",
    "        \n",
    "        e_time = \"Estimated duration {}m\".format(round(querry_time, 2))\n",
    "        display(e_time)\n",
    "    \n",
    "    progress = \"Progress: {}%\".format(round((counter+1)/len(id_list) * 100, 2))\n",
    "    display(progress)\n",
    "    \n",
    "    file.write(result_handle.read())\n",
    "    \n",
    "    if counter % 30 == 0 and counter != 0: #NCBI conditions\n",
    "        \n",
    "        display(print('sleep'))\n",
    "        time.sleep(60*25)\n",
    "    \n",
    "    else:\n",
    "        time.sleep(30)\n",
    "\n",
    "    end = time.time()\n",
    "    loop_time = end - start\n",
    "    tim.append(loop_time)\n",
    "    \n",
    "file.close()"
   ]
  },
  {
   "cell_type": "code",
   "execution_count": 51,
   "metadata": {
    "colab": {},
    "colab_type": "code",
    "id": "91qnNUZ0b265"
   },
   "outputs": [],
   "source": [
    "e_threshold = 0.01"
   ]
  },
  {
   "cell_type": "code",
   "execution_count": 52,
   "metadata": {
    "colab": {},
    "colab_type": "code",
    "id": "vA1u10INb268"
   },
   "outputs": [],
   "source": [
    "blast_output = open(\"Contigs.xml\")\n",
    "blast_records = NCBIXML.parse(blast_output)\n",
    "blast_results = {}"
   ]
  },
  {
   "cell_type": "code",
   "execution_count": 53,
   "metadata": {
    "colab": {},
    "colab_type": "code",
    "id": "Z17clpPEb27A"
   },
   "outputs": [],
   "source": [
    "for counter, alignment in enumerate(blast_records):\n",
    "    \n",
    "    con_id = id_list[counter]\n",
    "    rec_list = []\n",
    "    \n",
    "    for counter, records in enumerate(alignment.alignments):\n",
    "        \n",
    "                \n",
    "        for single_rec in records.hsps:\n",
    "          \n",
    "          if single_rec.expect < e_threshold:\n",
    "                rec_list.append(records.title)\n",
    "    \n",
    "    blast_results.update({con_id:str(rec_list)})           "
   ]
  },
  {
   "cell_type": "code",
   "execution_count": 54,
   "metadata": {
    "colab": {},
    "colab_type": "code",
    "id": "NLBR1ruokRS8"
   },
   "outputs": [],
   "source": [
    "df_res = pd.DataFrame(data=blast_results, index=[\"Description\"]).transpose()"
   ]
  },
  {
   "cell_type": "code",
   "execution_count": 55,
   "metadata": {
    "colab": {},
    "colab_type": "code",
    "id": "IbsNbumgns2u"
   },
   "outputs": [],
   "source": [
    "df_res.to_csv(\"Blast_Results_M12.csv\", sep=\";\")"
   ]
  },
  {
   "cell_type": "markdown",
   "metadata": {},
   "source": [
    "### Blast results validation"
   ]
  },
  {
   "cell_type": "code",
   "execution_count": 158,
   "metadata": {},
   "outputs": [],
   "source": [
    "ds2_cont = ds2_data_selected[[\"Contig\"]].values\n",
    "m12_cont = m12_data_selected[[\"Contig\"]].values\n",
    "rxl_cont = rxl_data_selected[[\"Contig\"]].values"
   ]
  },
  {
   "cell_type": "code",
   "execution_count": 159,
   "metadata": {},
   "outputs": [
    {
     "data": {
      "text/plain": [
       "33"
      ]
     },
     "execution_count": 159,
     "metadata": {},
     "output_type": "execute_result"
    }
   ],
   "source": [
    "len(ds2_cont)"
   ]
  },
  {
   "cell_type": "code",
   "execution_count": 160,
   "metadata": {},
   "outputs": [
    {
     "data": {
      "text/plain": [
       "268"
      ]
     },
     "execution_count": 160,
     "metadata": {},
     "output_type": "execute_result"
    }
   ],
   "source": [
    "len(m12_cont)"
   ]
  },
  {
   "cell_type": "code",
   "execution_count": 161,
   "metadata": {},
   "outputs": [
    {
     "data": {
      "text/plain": [
       "31"
      ]
     },
     "execution_count": 161,
     "metadata": {},
     "output_type": "execute_result"
    }
   ],
   "source": [
    "len(rxl_cont)"
   ]
  },
  {
   "cell_type": "code",
   "execution_count": 162,
   "metadata": {},
   "outputs": [],
   "source": [
    "blast_ds2 = pd.read_csv(\"Blast/Blast_Results_DS2.csv\", sep=\";\")\n",
    "blast_m12 = pd.read_csv(\"Blast/Blast_Results_M12.csv\", sep=\";\")\n",
    "blast_rxl = pd.read_csv(\"Blast/Blast_Results_RXL.csv\", sep=\";\")"
   ]
  },
  {
   "cell_type": "code",
   "execution_count": 163,
   "metadata": {},
   "outputs": [],
   "source": [
    "Blast_ds2_contigs = blast_ds2.iloc[:, 0]\n",
    "Blast_m12_contigs = blast_m12.iloc[:, 0]\n",
    "Blast_rxl_contigs = blast_rxl.iloc[:, 0]"
   ]
  },
  {
   "cell_type": "code",
   "execution_count": 164,
   "metadata": {},
   "outputs": [
    {
     "data": {
      "text/plain": [
       "True"
      ]
     },
     "execution_count": 164,
     "metadata": {},
     "output_type": "execute_result"
    }
   ],
   "source": [
    "len(Blast_ds2_contigs) == len(ds2_cont)"
   ]
  },
  {
   "cell_type": "code",
   "execution_count": 165,
   "metadata": {},
   "outputs": [
    {
     "data": {
      "text/plain": [
       "True"
      ]
     },
     "execution_count": 165,
     "metadata": {},
     "output_type": "execute_result"
    }
   ],
   "source": [
    "len(Blast_m12_contigs) == len(m12_cont)"
   ]
  },
  {
   "cell_type": "code",
   "execution_count": 166,
   "metadata": {},
   "outputs": [
    {
     "data": {
      "text/plain": [
       "True"
      ]
     },
     "execution_count": 166,
     "metadata": {},
     "output_type": "execute_result"
    }
   ],
   "source": [
    "len(Blast_rxl_contigs) == len(rxl_cont)"
   ]
  },
  {
   "cell_type": "code",
   "execution_count": 167,
   "metadata": {},
   "outputs": [
    {
     "data": {
      "text/plain": [
       "True"
      ]
     },
     "execution_count": 167,
     "metadata": {},
     "output_type": "execute_result"
    }
   ],
   "source": [
    "a = 0\n",
    "for data in Blast_ds2_contigs:\n",
    "    for data_2 in ds2_cont:\n",
    "        if data == data_2:\n",
    "            a += 1\n",
    "            continue\n",
    "            \n",
    "a == len(Blast_ds2_contigs) == len(ds2_cont)"
   ]
  },
  {
   "cell_type": "code",
   "execution_count": 168,
   "metadata": {},
   "outputs": [
    {
     "data": {
      "text/plain": [
       "True"
      ]
     },
     "execution_count": 168,
     "metadata": {},
     "output_type": "execute_result"
    }
   ],
   "source": [
    "a = 0\n",
    "for data in Blast_m12_contigs:\n",
    "    for data_2 in m12_cont:\n",
    "        if data == data_2:\n",
    "            a += 1\n",
    "            continue\n",
    "            \n",
    "a == len(Blast_m12_contigs) == len(m12_cont)"
   ]
  },
  {
   "cell_type": "code",
   "execution_count": 169,
   "metadata": {},
   "outputs": [
    {
     "data": {
      "text/plain": [
       "True"
      ]
     },
     "execution_count": 169,
     "metadata": {},
     "output_type": "execute_result"
    }
   ],
   "source": [
    "a = 0\n",
    "for data in Blast_rxl_contigs:\n",
    "    for data_2 in rxl_cont:\n",
    "        if data == data_2:\n",
    "            a += 1\n",
    "            continue\n",
    "            \n",
    "a == len(Blast_rxl_contigs) == len(rxl_cont)"
   ]
  },
  {
   "cell_type": "markdown",
   "metadata": {},
   "source": [
    "### some pattern in ncbi conditions ??? [probably ncbi inhibits periodic inquiries by api]"
   ]
  },
  {
   "cell_type": "code",
   "execution_count": 223,
   "metadata": {},
   "outputs": [
    {
     "data": {
      "text/plain": [
       "<matplotlib.axes._subplots.AxesSubplot at 0x25d9cec1da0>"
      ]
     },
     "execution_count": 223,
     "metadata": {},
     "output_type": "execute_result"
    },
    {
     "data": {
      "image/png": "[encoded data removed]",
      "text/plain": [
       "<Figure size 1440x864 with 1 Axes>"
      ]
     },
     "metadata": {},
     "output_type": "display_data"
    }
   ],
   "source": [
    "time_spend = pd.DataFrame(tim, columns=[\"Time [s]\"])\n",
    "sns.lineplot(data=time_spend)"
   ]
  },
  {
   "cell_type": "markdown",
   "metadata": {
    "colab_type": "text",
    "id": "W0XDJGgwb27D"
   },
   "source": [
    "### ML (Logistic regression and KNN and Decision Tree)"
   ]
  },
  {
   "cell_type": "code",
   "execution_count": 170,
   "metadata": {
    "colab": {},
    "colab_type": "code",
    "id": "iBNAbNnzb27E"
   },
   "outputs": [],
   "source": [
    "#new (lower) parameters of selection\n",
    "x = 0.5\n",
    "y = 0.2\n",
    "z = -0.2"
   ]
  },
  {
   "cell_type": "code",
   "execution_count": 171,
   "metadata": {
    "colab": {},
    "colab_type": "code",
    "id": "EF46aweFb27J"
   },
   "outputs": [],
   "source": [
    "ds2_data_selected = ds2_data[(ds2_data[\"DS2bw/DS2.raw.pval\"] < x) & ((ds2_data[\"DS2bw/DS2.fc\"] > y) | (ds2_data[\"DS2bw/DS2.fc\"] < z))]\n",
    "m12_data_selected = m12_data[(m12_data[\"M12bw/M12wn.raw.pval\"] < x) & ((m12_data[\"M12bw/M12wn.fc\"] > y) | (m12_data[\"M12bw/M12wn.fc\"] < z))]\n",
    "rxl_data_selected = rxl_data[(rxl_data[\"RXLbw/RXL.raw.pval\"] < x) & ((rxl_data[\"RXLbw/RXL.fc\"] > y) | (rxl_data[\"RXLbw/RXL.fc\"] < z))]"
   ]
  },
  {
   "cell_type": "code",
   "execution_count": 172,
   "metadata": {
    "colab": {},
    "colab_type": "code",
    "id": "r1TgD8grb27O"
   },
   "outputs": [],
   "source": [
    "ds2_data_selected_ready = ds2_data_selected.set_index(\"Contig\", drop=True) #'Contig' as index\n",
    "m12_data_selected_ready = m12_data_selected.set_index(\"Contig\", drop=True)\n",
    "rxl_data_selected_ready = rxl_data_selected.set_index(\"Contig\", drop=True)"
   ]
  },
  {
   "cell_type": "code",
   "execution_count": 173,
   "metadata": {
    "colab": {},
    "colab_type": "code",
    "id": "PsCR8vwGb27Q"
   },
   "outputs": [],
   "source": [
    "selected_contigs_ds = list(ds2_data_selected_ready.index) #get index name from data after selection\n",
    "selected_contigs_m = list(m12_data_selected_ready.index)\n",
    "selected_contigs_rxl = list(rxl_data_selected_ready.index)\n",
    "\n",
    "sum_selected_contigs = list(set(selected_contigs_ds + selected_contigs_m + selected_contigs_rxl))\n",
    "\n",
    "trinity_DS2_selcted = trinity_DS2.loc[selected_contigs_ds] #use selected index from ds2/m12/rxl on Trinity\n",
    "trinity_M12_selcted = trinity_m12.loc[selected_contigs_m] \n",
    "trinity_RXL_selcted = trinity_RXL.loc[selected_contigs_rxl]"
   ]
  },
  {
   "cell_type": "code",
   "execution_count": 174,
   "metadata": {
    "colab": {},
    "colab_type": "code",
    "id": "8vhvhUc1b27T"
   },
   "outputs": [],
   "source": [
    "try:\n",
    "    del trinity_DS2_selcted.index.name\n",
    "    del trinity_M12_selcted.index.name\n",
    "    del trinity_RXL_selcted.index.name\n",
    "except:\n",
    "    pass"
   ]
  },
  {
   "cell_type": "code",
   "execution_count": 175,
   "metadata": {
    "colab": {},
    "colab_type": "code",
    "id": "riS1xPL8b27U"
   },
   "outputs": [],
   "source": [
    "trinity_ds2_ready = trinity_DS2_selcted.transpose()\n",
    "trinity_m12_ready = trinity_M12_selcted.transpose()\n",
    "trinity_rxl_ready = trinity_RXL_selcted.transpose()"
   ]
  },
  {
   "cell_type": "code",
   "execution_count": 176,
   "metadata": {
    "colab": {},
    "colab_type": "code",
    "id": "Ega70mXqb27W"
   },
   "outputs": [],
   "source": [
    "trinity_ds2_ready_r = trinity_ds2_ready.reset_index()\n",
    "trinity_m12_ready_r = trinity_m12_ready.reset_index()\n",
    "trinity_rxl_ready_r = trinity_rxl_ready.reset_index()"
   ]
  },
  {
   "cell_type": "code",
   "execution_count": 177,
   "metadata": {
    "colab": {},
    "colab_type": "code",
    "id": "TEkc-FENb27Y"
   },
   "outputs": [],
   "source": [
    "try:\n",
    "    trinity_ds2_ready_r[\"index\"].replace([\"DS2_1_FPKM\", \"DS2_2_FPKM\"], 1, inplace=True)\n",
    "    trinity_m12_ready_r[\"index\"].replace([\"M12wn2_FPKM\", \"M12wn3_FPKM\"], 1, inplace=True)\n",
    "    trinity_rxl_ready_r[\"index\"].replace([\"RXL1_FPKM\", \"RXL2_FPKM\"], 1, inplace=True)\n",
    "\n",
    "    trinity_ds2_ready_r[\"index\"].replace([\"DS2bw1_FPKM\", \"DS2bw2_FPKM\", \"DS2bw3_FPKM\"], 0, inplace=True)\n",
    "    trinity_m12_ready_r[\"index\"].replace([\"M12bw1_FPKM\", \"M12bw2_FPKM\", \"M12bw3_FPKM\"], 0, inplace=True)\n",
    "    trinity_rxl_ready_r[\"index\"].replace([\"RXLbw1_FPKM\", \"RXLbw2_FPKM\"], 0, inplace=True)\n",
    "\n",
    "except():\n",
    "    pass"
   ]
  },
  {
   "cell_type": "code",
   "execution_count": 178,
   "metadata": {
    "colab": {},
    "colab_type": "code",
    "id": "zSW2Ulteb27c"
   },
   "outputs": [],
   "source": [
    "col_x = list(trinity_ds2_ready_r.columns)\n",
    "col_x[0] = \"Class\"\n",
    "trinity_ds2_ready_r.columns = col_x\n",
    "\n",
    "col_x = list(trinity_m12_ready_r.columns)\n",
    "col_x[0] = \"Class\"\n",
    "trinity_m12_ready_r.columns = col_x\n",
    "\n",
    "col_x = list(trinity_rxl_ready_r.columns)\n",
    "col_x[0] = \"Class\"\n",
    "trinity_rxl_ready_r.columns = col_x"
   ]
  },
  {
   "cell_type": "code",
   "execution_count": 179,
   "metadata": {
    "colab": {},
    "colab_type": "code",
    "id": "BnNMCUCYb27d"
   },
   "outputs": [
    {
     "name": "stdout",
     "output_type": "stream",
     "text": [
      "trinity_ds2_ready\n",
      "<class 'pandas.core.frame.DataFrame'>\n",
      "Index: 5 entries, DS2_1_FPKM to DS2bw3_FPKM\n",
      "Columns: 48355 entries, c58_g1_i1 to c145435_g1_i1\n",
      "dtypes: float32(48355)\n",
      "memory usage: 944.6+ KB\n",
      "--------------------------------------------------\n",
      "trinity_m12_ready\n",
      "<class 'pandas.core.frame.DataFrame'>\n",
      "Index: 5 entries, M12wn2_FPKM to M12bw3_FPKM\n",
      "Columns: 48478 entries, c58_g1_i1 to c145561_g1_i1\n",
      "dtypes: float32(48478)\n",
      "memory usage: 947.0+ KB\n",
      "--------------------------------------------------\n",
      "trinity_rxl_ready\n",
      "<class 'pandas.core.frame.DataFrame'>\n",
      "Index: 4 entries, RXL1_FPKM to RXLbw2_FPKM\n",
      "Columns: 45281 entries, c58_g1_i1 to c145783_g1_i1\n",
      "dtypes: float32(45281)\n",
      "memory usage: 707.7+ KB\n"
     ]
    }
   ],
   "source": [
    "print(\"trinity_ds2_ready\")\n",
    "trinity_ds2_ready.info()\n",
    "print(\"-\"*50)\n",
    "print(\"trinity_m12_ready\")\n",
    "trinity_m12_ready.info()\n",
    "print(\"-\"*50)\n",
    "print(\"trinity_rxl_ready\")\n",
    "trinity_rxl_ready.info()"
   ]
  },
  {
   "cell_type": "code",
   "execution_count": 180,
   "metadata": {
    "colab": {},
    "colab_type": "code",
    "id": "UY2IQcI1b27f"
   },
   "outputs": [],
   "source": [
    "reduce_con_list = trinity_rxl_ready_r.columns.tolist()\n",
    "m12_list = trinity_m12_ready_r.columns.tolist()\n",
    "ds2_list = trinity_ds2_ready_r.columns.tolist()\n",
    "\n",
    "reduce_con_list = set(reduce_con_list)\n",
    "m12_list = set(m12_list)\n",
    "ds2_list = set(ds2_list)\n",
    "\n",
    "contigs = list(ds2_list.intersection(m12_list, reduce_con_list))\n",
    "contigs_r = []\n",
    "\n",
    "for e in contigs:\n",
    "    if e != \"Class\":\n",
    "        contigs_r.append(e)\n",
    "    else:\n",
    "        continue"
   ]
  },
  {
   "cell_type": "code",
   "execution_count": 181,
   "metadata": {
    "colab": {},
    "colab_type": "code",
    "id": "sC54zP9Lb27m"
   },
   "outputs": [],
   "source": [
    "if len(contigs_r) > 1:\n",
    "    trinity_rxl_ready = trinity_rxl_ready_r[contigs]\n",
    "    trinity_m12_ready = trinity_m12_ready_r[contigs]\n",
    "    trinity_ds2_ready = trinity_ds2_ready_r[contigs]\n",
    "\n",
    "    dataf = pd.concat([trinity_ds2_ready, trinity_m12_ready, trinity_rxl_ready])\n",
    "    x_set = dataf.columns.tolist()    \n",
    "else:\n",
    "    print(\"No data, change selection parameters\")"
   ]
  },
  {
   "cell_type": "code",
   "execution_count": 182,
   "metadata": {
    "colab": {},
    "colab_type": "code",
    "id": "rNC4rmOtb27p"
   },
   "outputs": [],
   "source": [
    "y = dataf[\"Class\"]\n",
    "x = dataf[x_set]"
   ]
  },
  {
   "cell_type": "markdown",
   "metadata": {
    "colab_type": "text",
    "id": "MocEcFpPb27t"
   },
   "source": [
    "### Logistic Regression"
   ]
  },
  {
   "cell_type": "code",
   "execution_count": 189,
   "metadata": {
    "colab": {},
    "colab_type": "code",
    "id": "FX69UjX5b27v"
   },
   "outputs": [],
   "source": [
    "from sklearn.model_selection import train_test_split\n",
    "X_train, X_test, y_train, y_test = train_test_split(x, y, test_size=0.4)"
   ]
  },
  {
   "cell_type": "code",
   "execution_count": 190,
   "metadata": {
    "colab": {},
    "colab_type": "code",
    "id": "R530ezkzb27x"
   },
   "outputs": [],
   "source": [
    "from sklearn.linear_model import LogisticRegression\n",
    "from sklearn.metrics import classification_report"
   ]
  },
  {
   "cell_type": "code",
   "execution_count": 191,
   "metadata": {
    "colab": {},
    "colab_type": "code",
    "id": "tac3Q-evb27z"
   },
   "outputs": [
    {
     "data": {
      "text/plain": [
       "LogisticRegression(C=1.0, class_weight=None, dual=False, fit_intercept=True,\n",
       "          intercept_scaling=1, max_iter=100, multi_class='warn',\n",
       "          n_jobs=None, penalty='l2', random_state=None, solver='lbfgs',\n",
       "          tol=0.0001, verbose=0, warm_start=False)"
      ]
     },
     "execution_count": 191,
     "metadata": {},
     "output_type": "execute_result"
    }
   ],
   "source": [
    "lg = LogisticRegression(solver=\"lbfgs\")\n",
    "lg.fit(X_train,y_train)"
   ]
  },
  {
   "cell_type": "code",
   "execution_count": 192,
   "metadata": {
    "colab": {},
    "colab_type": "code",
    "id": "zLRkJFxOb270"
   },
   "outputs": [
    {
     "data": {
      "text/plain": [
       "array([0, 0, 1, 0, 1, 0], dtype=int64)"
      ]
     },
     "execution_count": 192,
     "metadata": {},
     "output_type": "execute_result"
    }
   ],
   "source": [
    "predictions = lg.predict(X_test)\n",
    "predictions"
   ]
  },
  {
   "cell_type": "code",
   "execution_count": 193,
   "metadata": {
    "colab": {},
    "colab_type": "code",
    "id": "Q3ElOeJyb271"
   },
   "outputs": [
    {
     "name": "stdout",
     "output_type": "stream",
     "text": [
      "              precision    recall  f1-score   support\n",
      "\n",
      "           0       1.00      1.00      1.00         4\n",
      "           1       1.00      1.00      1.00         2\n",
      "\n",
      "   micro avg       1.00      1.00      1.00         6\n",
      "   macro avg       1.00      1.00      1.00         6\n",
      "weighted avg       1.00      1.00      1.00         6\n",
      "\n"
     ]
    }
   ],
   "source": [
    "print(classification_report(y_test,predictions))"
   ]
  },
  {
   "cell_type": "markdown",
   "metadata": {
    "colab_type": "text",
    "id": "1zn1uzldb273"
   },
   "source": [
    "### KNN"
   ]
  },
  {
   "cell_type": "code",
   "execution_count": 194,
   "metadata": {
    "colab": {},
    "colab_type": "code",
    "id": "Tvnbnh06b275"
   },
   "outputs": [],
   "source": [
    "from sklearn.neighbors import KNeighborsClassifier\n",
    "from sklearn.metrics import classification_report, confusion_matrix\n",
    "from sklearn.preprocessing import StandardScaler\n",
    "knn = KNeighborsClassifier(n_neighbors=1)"
   ]
  },
  {
   "cell_type": "code",
   "execution_count": 197,
   "metadata": {
    "colab": {},
    "colab_type": "code",
    "id": "5JWSzfmGb277"
   },
   "outputs": [
    {
     "name": "stderr",
     "output_type": "stream",
     "text": [
      "c:\\users\\jan\\appdata\\local\\programs\\python\\python36\\lib\\site-packages\\sklearn\\preprocessing\\data.py:625: DataConversionWarning: Data with input dtype float32, int64 were all converted to float64 by StandardScaler.\n",
      "  return self.partial_fit(X, y)\n",
      "c:\\users\\jan\\appdata\\local\\programs\\python\\python36\\lib\\site-packages\\ipykernel_launcher.py:3: DataConversionWarning: Data with input dtype float32, int64 were all converted to float64 by StandardScaler.\n",
      "  This is separate from the ipykernel package so we can avoid doing imports until\n"
     ]
    }
   ],
   "source": [
    "scal = StandardScaler()\n",
    "scal.fit(x)\n",
    "scaled_features = scal.transform(x)"
   ]
  },
  {
   "cell_type": "code",
   "execution_count": 202,
   "metadata": {
    "colab": {},
    "colab_type": "code",
    "id": "5slA0Ge3b27_"
   },
   "outputs": [
    {
     "data": {
      "text/plain": [
       "KNeighborsClassifier(algorithm='auto', leaf_size=30, metric='minkowski',\n",
       "           metric_params=None, n_jobs=None, n_neighbors=3, p=2,\n",
       "           weights='uniform')"
      ]
     },
     "execution_count": 202,
     "metadata": {},
     "output_type": "execute_result"
    }
   ],
   "source": [
    "X_train, X_test, y_train, y_test = train_test_split(x, y, test_size=0.4)\n",
    "knn.fit(X_train,y_train)"
   ]
  },
  {
   "cell_type": "code",
   "execution_count": 203,
   "metadata": {
    "colab": {},
    "colab_type": "code",
    "id": "gCwom9TOb28C"
   },
   "outputs": [],
   "source": [
    "pred = knn.predict(X_test)"
   ]
  },
  {
   "cell_type": "code",
   "execution_count": 204,
   "metadata": {
    "colab": {},
    "colab_type": "code",
    "id": "6aciroryb28J"
   },
   "outputs": [
    {
     "name": "stdout",
     "output_type": "stream",
     "text": [
      "[[2 2]\n",
      " [0 2]]\n"
     ]
    }
   ],
   "source": [
    "print(confusion_matrix(y_test,pred))"
   ]
  },
  {
   "cell_type": "code",
   "execution_count": 205,
   "metadata": {
    "colab": {},
    "colab_type": "code",
    "id": "FWC3rdfbb28L"
   },
   "outputs": [
    {
     "data": {
      "text/plain": [
       "Text(0, 0.5, 'Error Rate')"
      ]
     },
     "execution_count": 205,
     "metadata": {},
     "output_type": "execute_result"
    },
    {
     "data": {
      "image/png": "[encoded data removed]",
      "text/plain": [
       "<Figure size 720x432 with 1 Axes>"
      ]
     },
     "metadata": {},
     "output_type": "display_data"
    }
   ],
   "source": [
    "error_rate = []\n",
    "for i in range(1,4):\n",
    "    \n",
    "    knn = KNeighborsClassifier(n_neighbors=i)\n",
    "    knn.fit(X_train,y_train)\n",
    "    pred_i = knn.predict(X_test)\n",
    "    \n",
    "    error_rate.append(np.mean(pred_i != y_test))\n",
    "    \n",
    "plt.figure(figsize=(10,6))\n",
    "plt.plot(range(1,4),error_rate,color='blue', linestyle='dashed', marker='o',\n",
    "         markerfacecolor='red', markersize=10)\n",
    "\n",
    "plt.title('Error Rate vs. K Value')\n",
    "plt.xlabel('K')\n",
    "plt.ylabel('Error Rate')"
   ]
  },
  {
   "cell_type": "code",
   "execution_count": null,
   "metadata": {},
   "outputs": [],
   "source": []
  }
 ],
 "metadata": {
  "colab": {
   "name": "Analiza.ipynb",
   "provenance": [],
   "toc_visible": true,
   "version": "0.3.2"
  },
  "kernelspec": {
   "display_name": "Python 3",
   "language": "python",
   "name": "python3"
  },
  "language_info": {
   "codemirror_mode": {
    "name": "ipython",
    "version": 3
   },
   "file_extension": ".py",
   "mimetype": "text/x-python",
   "name": "python",
   "nbconvert_exporter": "python",
   "pygments_lexer": "ipython3",
   "version": "3.6.8"
  }
 },
 "nbformat": 4,
 "nbformat_minor": 1
}
